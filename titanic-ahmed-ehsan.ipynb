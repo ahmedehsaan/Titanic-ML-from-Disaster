{
 "cells": [
  {
   "cell_type": "code",
   "execution_count": 1,
   "id": "a7b03f07",
   "metadata": {
    "_cell_guid": "b1076dfc-b9ad-4769-8c92-a6c4dae69d19",
    "_uuid": "8f2839f25d086af736a60e9eeb907d3b93b6e0e5",
    "execution": {
     "iopub.execute_input": "2022-06-30T20:16:02.345000Z",
     "iopub.status.busy": "2022-06-30T20:16:02.343899Z",
     "iopub.status.idle": "2022-06-30T20:16:02.359535Z",
     "shell.execute_reply": "2022-06-30T20:16:02.358413Z"
    },
    "papermill": {
     "duration": 0.03364,
     "end_time": "2022-06-30T20:16:02.362166",
     "exception": false,
     "start_time": "2022-06-30T20:16:02.328526",
     "status": "completed"
    },
    "tags": []
   },
   "outputs": [
    {
     "name": "stdout",
     "output_type": "stream",
     "text": [
      "/kaggle/input/titanic/train.csv\n",
      "/kaggle/input/titanic/test.csv\n",
      "/kaggle/input/titanic/gender_submission.csv\n"
     ]
    }
   ],
   "source": [
    "# This Python 3 environment comes with many helpful analytics libraries installed\n",
    "# It is defined by the kaggle/python Docker image: https://github.com/kaggle/docker-python\n",
    "# For example, here's several helpful packages to load\n",
    "\n",
    "import numpy as np # linear algebra\n",
    "import pandas as pd # data processing, CSV file I/O (e.g. pd.read_csv)\n",
    "\n",
    "# Input data files are available in the read-only \"../input/\" directory\n",
    "# For example, running this (by clicking run or pressing Shift+Enter) will list all files under the input directory\n",
    "\n",
    "import os\n",
    "for dirname, _, filenames in os.walk('/kaggle/input'):\n",
    "    for filename in filenames:\n",
    "        print(os.path.join(dirname, filename))\n",
    "\n",
    "# You can write up to 20GB to the current directory (/kaggle/working/) that gets preserved as output when you create a version using \"Save & Run All\" \n",
    "# You can also write temporary files to /kaggle/temp/, but they won't be saved outside of the current session"
   ]
  },
  {
   "cell_type": "code",
   "execution_count": 2,
   "id": "468878bd",
   "metadata": {
    "execution": {
     "iopub.execute_input": "2022-06-30T20:16:02.388753Z",
     "iopub.status.busy": "2022-06-30T20:16:02.387946Z",
     "iopub.status.idle": "2022-06-30T20:16:03.804820Z",
     "shell.execute_reply": "2022-06-30T20:16:03.803265Z"
    },
    "papermill": {
     "duration": 1.433076,
     "end_time": "2022-06-30T20:16:03.807500",
     "exception": false,
     "start_time": "2022-06-30T20:16:02.374424",
     "status": "completed"
    },
    "tags": []
   },
   "outputs": [],
   "source": [
    "import numpy as np\n",
    "import pandas as pd\n",
    "import matplotlib.pyplot as plt \n",
    "import seaborn as sns\n",
    "%matplotlib inline\n",
    "#plt.style.use('seaborn') #ggplot\n",
    "\n",
    "from sklearn.linear_model import LogisticRegression\n",
    "from sklearn.model_selection import train_test_split\n",
    "from sklearn.metrics import mean_squared_error, mean_absolute_error\n",
    "from sklearn import preprocessing"
   ]
  },
  {
   "cell_type": "code",
   "execution_count": 3,
   "id": "f207604f",
   "metadata": {
    "execution": {
     "iopub.execute_input": "2022-06-30T20:16:03.833964Z",
     "iopub.status.busy": "2022-06-30T20:16:03.833184Z",
     "iopub.status.idle": "2022-06-30T20:16:03.864959Z",
     "shell.execute_reply": "2022-06-30T20:16:03.863558Z"
    },
    "papermill": {
     "duration": 0.048107,
     "end_time": "2022-06-30T20:16:03.867783",
     "exception": false,
     "start_time": "2022-06-30T20:16:03.819676",
     "status": "completed"
    },
    "tags": []
   },
   "outputs": [],
   "source": [
    "training = pd.read_csv(\"../input/titanic/train.csv\")\n",
    "test = pd.read_csv(\"../input/titanic/test.csv\")"
   ]
  },
  {
   "cell_type": "code",
   "execution_count": 4,
   "id": "9ad7da38",
   "metadata": {
    "execution": {
     "iopub.execute_input": "2022-06-30T20:16:03.895015Z",
     "iopub.status.busy": "2022-06-30T20:16:03.894256Z",
     "iopub.status.idle": "2022-06-30T20:16:03.919708Z",
     "shell.execute_reply": "2022-06-30T20:16:03.918559Z"
    },
    "papermill": {
     "duration": 0.042072,
     "end_time": "2022-06-30T20:16:03.922254",
     "exception": false,
     "start_time": "2022-06-30T20:16:03.880182",
     "status": "completed"
    },
    "tags": []
   },
   "outputs": [
    {
     "data": {
      "text/html": [
       "<div>\n",
       "<style scoped>\n",
       "    .dataframe tbody tr th:only-of-type {\n",
       "        vertical-align: middle;\n",
       "    }\n",
       "\n",
       "    .dataframe tbody tr th {\n",
       "        vertical-align: top;\n",
       "    }\n",
       "\n",
       "    .dataframe thead th {\n",
       "        text-align: right;\n",
       "    }\n",
       "</style>\n",
       "<table border=\"1\" class=\"dataframe\">\n",
       "  <thead>\n",
       "    <tr style=\"text-align: right;\">\n",
       "      <th></th>\n",
       "      <th>PassengerId</th>\n",
       "      <th>Survived</th>\n",
       "      <th>Pclass</th>\n",
       "      <th>Name</th>\n",
       "      <th>Sex</th>\n",
       "      <th>Age</th>\n",
       "      <th>SibSp</th>\n",
       "      <th>Parch</th>\n",
       "      <th>Ticket</th>\n",
       "      <th>Fare</th>\n",
       "      <th>Cabin</th>\n",
       "      <th>Embarked</th>\n",
       "    </tr>\n",
       "  </thead>\n",
       "  <tbody>\n",
       "    <tr>\n",
       "      <th>0</th>\n",
       "      <td>1</td>\n",
       "      <td>0</td>\n",
       "      <td>3</td>\n",
       "      <td>Braund, Mr. Owen Harris</td>\n",
       "      <td>male</td>\n",
       "      <td>22.0</td>\n",
       "      <td>1</td>\n",
       "      <td>0</td>\n",
       "      <td>A/5 21171</td>\n",
       "      <td>7.2500</td>\n",
       "      <td>NaN</td>\n",
       "      <td>S</td>\n",
       "    </tr>\n",
       "    <tr>\n",
       "      <th>1</th>\n",
       "      <td>2</td>\n",
       "      <td>1</td>\n",
       "      <td>1</td>\n",
       "      <td>Cumings, Mrs. John Bradley (Florence Briggs Th...</td>\n",
       "      <td>female</td>\n",
       "      <td>38.0</td>\n",
       "      <td>1</td>\n",
       "      <td>0</td>\n",
       "      <td>PC 17599</td>\n",
       "      <td>71.2833</td>\n",
       "      <td>C85</td>\n",
       "      <td>C</td>\n",
       "    </tr>\n",
       "    <tr>\n",
       "      <th>2</th>\n",
       "      <td>3</td>\n",
       "      <td>1</td>\n",
       "      <td>3</td>\n",
       "      <td>Heikkinen, Miss. Laina</td>\n",
       "      <td>female</td>\n",
       "      <td>26.0</td>\n",
       "      <td>0</td>\n",
       "      <td>0</td>\n",
       "      <td>STON/O2. 3101282</td>\n",
       "      <td>7.9250</td>\n",
       "      <td>NaN</td>\n",
       "      <td>S</td>\n",
       "    </tr>\n",
       "    <tr>\n",
       "      <th>3</th>\n",
       "      <td>4</td>\n",
       "      <td>1</td>\n",
       "      <td>1</td>\n",
       "      <td>Futrelle, Mrs. Jacques Heath (Lily May Peel)</td>\n",
       "      <td>female</td>\n",
       "      <td>35.0</td>\n",
       "      <td>1</td>\n",
       "      <td>0</td>\n",
       "      <td>113803</td>\n",
       "      <td>53.1000</td>\n",
       "      <td>C123</td>\n",
       "      <td>S</td>\n",
       "    </tr>\n",
       "    <tr>\n",
       "      <th>4</th>\n",
       "      <td>5</td>\n",
       "      <td>0</td>\n",
       "      <td>3</td>\n",
       "      <td>Allen, Mr. William Henry</td>\n",
       "      <td>male</td>\n",
       "      <td>35.0</td>\n",
       "      <td>0</td>\n",
       "      <td>0</td>\n",
       "      <td>373450</td>\n",
       "      <td>8.0500</td>\n",
       "      <td>NaN</td>\n",
       "      <td>S</td>\n",
       "    </tr>\n",
       "  </tbody>\n",
       "</table>\n",
       "</div>"
      ],
      "text/plain": [
       "   PassengerId  Survived  Pclass  \\\n",
       "0            1         0       3   \n",
       "1            2         1       1   \n",
       "2            3         1       3   \n",
       "3            4         1       1   \n",
       "4            5         0       3   \n",
       "\n",
       "                                                Name     Sex   Age  SibSp  \\\n",
       "0                            Braund, Mr. Owen Harris    male  22.0      1   \n",
       "1  Cumings, Mrs. John Bradley (Florence Briggs Th...  female  38.0      1   \n",
       "2                             Heikkinen, Miss. Laina  female  26.0      0   \n",
       "3       Futrelle, Mrs. Jacques Heath (Lily May Peel)  female  35.0      1   \n",
       "4                           Allen, Mr. William Henry    male  35.0      0   \n",
       "\n",
       "   Parch            Ticket     Fare Cabin Embarked  \n",
       "0      0         A/5 21171   7.2500   NaN        S  \n",
       "1      0          PC 17599  71.2833   C85        C  \n",
       "2      0  STON/O2. 3101282   7.9250   NaN        S  \n",
       "3      0            113803  53.1000  C123        S  \n",
       "4      0            373450   8.0500   NaN        S  "
      ]
     },
     "execution_count": 4,
     "metadata": {},
     "output_type": "execute_result"
    }
   ],
   "source": [
    "training.head()"
   ]
  },
  {
   "cell_type": "code",
   "execution_count": 5,
   "id": "38882c0a",
   "metadata": {
    "execution": {
     "iopub.execute_input": "2022-06-30T20:16:03.949349Z",
     "iopub.status.busy": "2022-06-30T20:16:03.948963Z",
     "iopub.status.idle": "2022-06-30T20:16:03.965060Z",
     "shell.execute_reply": "2022-06-30T20:16:03.963974Z"
    },
    "papermill": {
     "duration": 0.03269,
     "end_time": "2022-06-30T20:16:03.967367",
     "exception": false,
     "start_time": "2022-06-30T20:16:03.934677",
     "status": "completed"
    },
    "tags": []
   },
   "outputs": [
    {
     "data": {
      "text/html": [
       "<div>\n",
       "<style scoped>\n",
       "    .dataframe tbody tr th:only-of-type {\n",
       "        vertical-align: middle;\n",
       "    }\n",
       "\n",
       "    .dataframe tbody tr th {\n",
       "        vertical-align: top;\n",
       "    }\n",
       "\n",
       "    .dataframe thead th {\n",
       "        text-align: right;\n",
       "    }\n",
       "</style>\n",
       "<table border=\"1\" class=\"dataframe\">\n",
       "  <thead>\n",
       "    <tr style=\"text-align: right;\">\n",
       "      <th></th>\n",
       "      <th>PassengerId</th>\n",
       "      <th>Pclass</th>\n",
       "      <th>Name</th>\n",
       "      <th>Sex</th>\n",
       "      <th>Age</th>\n",
       "      <th>SibSp</th>\n",
       "      <th>Parch</th>\n",
       "      <th>Ticket</th>\n",
       "      <th>Fare</th>\n",
       "      <th>Cabin</th>\n",
       "      <th>Embarked</th>\n",
       "    </tr>\n",
       "  </thead>\n",
       "  <tbody>\n",
       "    <tr>\n",
       "      <th>0</th>\n",
       "      <td>892</td>\n",
       "      <td>3</td>\n",
       "      <td>Kelly, Mr. James</td>\n",
       "      <td>male</td>\n",
       "      <td>34.5</td>\n",
       "      <td>0</td>\n",
       "      <td>0</td>\n",
       "      <td>330911</td>\n",
       "      <td>7.8292</td>\n",
       "      <td>NaN</td>\n",
       "      <td>Q</td>\n",
       "    </tr>\n",
       "    <tr>\n",
       "      <th>1</th>\n",
       "      <td>893</td>\n",
       "      <td>3</td>\n",
       "      <td>Wilkes, Mrs. James (Ellen Needs)</td>\n",
       "      <td>female</td>\n",
       "      <td>47.0</td>\n",
       "      <td>1</td>\n",
       "      <td>0</td>\n",
       "      <td>363272</td>\n",
       "      <td>7.0000</td>\n",
       "      <td>NaN</td>\n",
       "      <td>S</td>\n",
       "    </tr>\n",
       "    <tr>\n",
       "      <th>2</th>\n",
       "      <td>894</td>\n",
       "      <td>2</td>\n",
       "      <td>Myles, Mr. Thomas Francis</td>\n",
       "      <td>male</td>\n",
       "      <td>62.0</td>\n",
       "      <td>0</td>\n",
       "      <td>0</td>\n",
       "      <td>240276</td>\n",
       "      <td>9.6875</td>\n",
       "      <td>NaN</td>\n",
       "      <td>Q</td>\n",
       "    </tr>\n",
       "    <tr>\n",
       "      <th>3</th>\n",
       "      <td>895</td>\n",
       "      <td>3</td>\n",
       "      <td>Wirz, Mr. Albert</td>\n",
       "      <td>male</td>\n",
       "      <td>27.0</td>\n",
       "      <td>0</td>\n",
       "      <td>0</td>\n",
       "      <td>315154</td>\n",
       "      <td>8.6625</td>\n",
       "      <td>NaN</td>\n",
       "      <td>S</td>\n",
       "    </tr>\n",
       "    <tr>\n",
       "      <th>4</th>\n",
       "      <td>896</td>\n",
       "      <td>3</td>\n",
       "      <td>Hirvonen, Mrs. Alexander (Helga E Lindqvist)</td>\n",
       "      <td>female</td>\n",
       "      <td>22.0</td>\n",
       "      <td>1</td>\n",
       "      <td>1</td>\n",
       "      <td>3101298</td>\n",
       "      <td>12.2875</td>\n",
       "      <td>NaN</td>\n",
       "      <td>S</td>\n",
       "    </tr>\n",
       "  </tbody>\n",
       "</table>\n",
       "</div>"
      ],
      "text/plain": [
       "   PassengerId  Pclass                                          Name     Sex  \\\n",
       "0          892       3                              Kelly, Mr. James    male   \n",
       "1          893       3              Wilkes, Mrs. James (Ellen Needs)  female   \n",
       "2          894       2                     Myles, Mr. Thomas Francis    male   \n",
       "3          895       3                              Wirz, Mr. Albert    male   \n",
       "4          896       3  Hirvonen, Mrs. Alexander (Helga E Lindqvist)  female   \n",
       "\n",
       "    Age  SibSp  Parch   Ticket     Fare Cabin Embarked  \n",
       "0  34.5      0      0   330911   7.8292   NaN        Q  \n",
       "1  47.0      1      0   363272   7.0000   NaN        S  \n",
       "2  62.0      0      0   240276   9.6875   NaN        Q  \n",
       "3  27.0      0      0   315154   8.6625   NaN        S  \n",
       "4  22.0      1      1  3101298  12.2875   NaN        S  "
      ]
     },
     "execution_count": 5,
     "metadata": {},
     "output_type": "execute_result"
    }
   ],
   "source": [
    "test.head()"
   ]
  },
  {
   "cell_type": "code",
   "execution_count": 6,
   "id": "9f8990c9",
   "metadata": {
    "execution": {
     "iopub.execute_input": "2022-06-30T20:16:03.994471Z",
     "iopub.status.busy": "2022-06-30T20:16:03.993689Z",
     "iopub.status.idle": "2022-06-30T20:16:04.024599Z",
     "shell.execute_reply": "2022-06-30T20:16:04.023379Z"
    },
    "papermill": {
     "duration": 0.04757,
     "end_time": "2022-06-30T20:16:04.027267",
     "exception": false,
     "start_time": "2022-06-30T20:16:03.979697",
     "status": "completed"
    },
    "tags": []
   },
   "outputs": [
    {
     "name": "stdout",
     "output_type": "stream",
     "text": [
      "<class 'pandas.core.frame.DataFrame'>\n",
      "RangeIndex: 891 entries, 0 to 890\n",
      "Data columns (total 12 columns):\n",
      " #   Column       Non-Null Count  Dtype  \n",
      "---  ------       --------------  -----  \n",
      " 0   PassengerId  891 non-null    int64  \n",
      " 1   Survived     891 non-null    int64  \n",
      " 2   Pclass       891 non-null    int64  \n",
      " 3   Name         891 non-null    object \n",
      " 4   Sex          891 non-null    object \n",
      " 5   Age          714 non-null    float64\n",
      " 6   SibSp        891 non-null    int64  \n",
      " 7   Parch        891 non-null    int64  \n",
      " 8   Ticket       891 non-null    object \n",
      " 9   Fare         891 non-null    float64\n",
      " 10  Cabin        204 non-null    object \n",
      " 11  Embarked     889 non-null    object \n",
      "dtypes: float64(2), int64(5), object(5)\n",
      "memory usage: 83.7+ KB\n"
     ]
    }
   ],
   "source": [
    "training.info()"
   ]
  },
  {
   "cell_type": "code",
   "execution_count": 7,
   "id": "3885ddfa",
   "metadata": {
    "execution": {
     "iopub.execute_input": "2022-06-30T20:16:04.055985Z",
     "iopub.status.busy": "2022-06-30T20:16:04.055561Z",
     "iopub.status.idle": "2022-06-30T20:16:04.092042Z",
     "shell.execute_reply": "2022-06-30T20:16:04.090863Z"
    },
    "papermill": {
     "duration": 0.053787,
     "end_time": "2022-06-30T20:16:04.094415",
     "exception": false,
     "start_time": "2022-06-30T20:16:04.040628",
     "status": "completed"
    },
    "tags": []
   },
   "outputs": [
    {
     "data": {
      "text/html": [
       "<div>\n",
       "<style scoped>\n",
       "    .dataframe tbody tr th:only-of-type {\n",
       "        vertical-align: middle;\n",
       "    }\n",
       "\n",
       "    .dataframe tbody tr th {\n",
       "        vertical-align: top;\n",
       "    }\n",
       "\n",
       "    .dataframe thead th {\n",
       "        text-align: right;\n",
       "    }\n",
       "</style>\n",
       "<table border=\"1\" class=\"dataframe\">\n",
       "  <thead>\n",
       "    <tr style=\"text-align: right;\">\n",
       "      <th></th>\n",
       "      <th>PassengerId</th>\n",
       "      <th>Survived</th>\n",
       "      <th>Pclass</th>\n",
       "      <th>Age</th>\n",
       "      <th>SibSp</th>\n",
       "      <th>Parch</th>\n",
       "      <th>Fare</th>\n",
       "    </tr>\n",
       "  </thead>\n",
       "  <tbody>\n",
       "    <tr>\n",
       "      <th>count</th>\n",
       "      <td>891.000000</td>\n",
       "      <td>891.000000</td>\n",
       "      <td>891.000000</td>\n",
       "      <td>714.000000</td>\n",
       "      <td>891.000000</td>\n",
       "      <td>891.000000</td>\n",
       "      <td>891.000000</td>\n",
       "    </tr>\n",
       "    <tr>\n",
       "      <th>mean</th>\n",
       "      <td>446.000000</td>\n",
       "      <td>0.383838</td>\n",
       "      <td>2.308642</td>\n",
       "      <td>29.699118</td>\n",
       "      <td>0.523008</td>\n",
       "      <td>0.381594</td>\n",
       "      <td>32.204208</td>\n",
       "    </tr>\n",
       "    <tr>\n",
       "      <th>std</th>\n",
       "      <td>257.353842</td>\n",
       "      <td>0.486592</td>\n",
       "      <td>0.836071</td>\n",
       "      <td>14.526497</td>\n",
       "      <td>1.102743</td>\n",
       "      <td>0.806057</td>\n",
       "      <td>49.693429</td>\n",
       "    </tr>\n",
       "    <tr>\n",
       "      <th>min</th>\n",
       "      <td>1.000000</td>\n",
       "      <td>0.000000</td>\n",
       "      <td>1.000000</td>\n",
       "      <td>0.420000</td>\n",
       "      <td>0.000000</td>\n",
       "      <td>0.000000</td>\n",
       "      <td>0.000000</td>\n",
       "    </tr>\n",
       "    <tr>\n",
       "      <th>25%</th>\n",
       "      <td>223.500000</td>\n",
       "      <td>0.000000</td>\n",
       "      <td>2.000000</td>\n",
       "      <td>20.125000</td>\n",
       "      <td>0.000000</td>\n",
       "      <td>0.000000</td>\n",
       "      <td>7.910400</td>\n",
       "    </tr>\n",
       "    <tr>\n",
       "      <th>50%</th>\n",
       "      <td>446.000000</td>\n",
       "      <td>0.000000</td>\n",
       "      <td>3.000000</td>\n",
       "      <td>28.000000</td>\n",
       "      <td>0.000000</td>\n",
       "      <td>0.000000</td>\n",
       "      <td>14.454200</td>\n",
       "    </tr>\n",
       "    <tr>\n",
       "      <th>75%</th>\n",
       "      <td>668.500000</td>\n",
       "      <td>1.000000</td>\n",
       "      <td>3.000000</td>\n",
       "      <td>38.000000</td>\n",
       "      <td>1.000000</td>\n",
       "      <td>0.000000</td>\n",
       "      <td>31.000000</td>\n",
       "    </tr>\n",
       "    <tr>\n",
       "      <th>max</th>\n",
       "      <td>891.000000</td>\n",
       "      <td>1.000000</td>\n",
       "      <td>3.000000</td>\n",
       "      <td>80.000000</td>\n",
       "      <td>8.000000</td>\n",
       "      <td>6.000000</td>\n",
       "      <td>512.329200</td>\n",
       "    </tr>\n",
       "  </tbody>\n",
       "</table>\n",
       "</div>"
      ],
      "text/plain": [
       "       PassengerId    Survived      Pclass         Age       SibSp  \\\n",
       "count   891.000000  891.000000  891.000000  714.000000  891.000000   \n",
       "mean    446.000000    0.383838    2.308642   29.699118    0.523008   \n",
       "std     257.353842    0.486592    0.836071   14.526497    1.102743   \n",
       "min       1.000000    0.000000    1.000000    0.420000    0.000000   \n",
       "25%     223.500000    0.000000    2.000000   20.125000    0.000000   \n",
       "50%     446.000000    0.000000    3.000000   28.000000    0.000000   \n",
       "75%     668.500000    1.000000    3.000000   38.000000    1.000000   \n",
       "max     891.000000    1.000000    3.000000   80.000000    8.000000   \n",
       "\n",
       "            Parch        Fare  \n",
       "count  891.000000  891.000000  \n",
       "mean     0.381594   32.204208  \n",
       "std      0.806057   49.693429  \n",
       "min      0.000000    0.000000  \n",
       "25%      0.000000    7.910400  \n",
       "50%      0.000000   14.454200  \n",
       "75%      0.000000   31.000000  \n",
       "max      6.000000  512.329200  "
      ]
     },
     "execution_count": 7,
     "metadata": {},
     "output_type": "execute_result"
    }
   ],
   "source": [
    "training.describe()"
   ]
  },
  {
   "cell_type": "code",
   "execution_count": 8,
   "id": "6379d67d",
   "metadata": {
    "execution": {
     "iopub.execute_input": "2022-06-30T20:16:04.122745Z",
     "iopub.status.busy": "2022-06-30T20:16:04.122011Z",
     "iopub.status.idle": "2022-06-30T20:16:04.131628Z",
     "shell.execute_reply": "2022-06-30T20:16:04.130789Z"
    },
    "papermill": {
     "duration": 0.026013,
     "end_time": "2022-06-30T20:16:04.133873",
     "exception": false,
     "start_time": "2022-06-30T20:16:04.107860",
     "status": "completed"
    },
    "tags": []
   },
   "outputs": [
    {
     "data": {
      "text/plain": [
       "PassengerId      0\n",
       "Survived         0\n",
       "Pclass           0\n",
       "Name             0\n",
       "Sex              0\n",
       "Age            177\n",
       "SibSp            0\n",
       "Parch            0\n",
       "Ticket           0\n",
       "Fare             0\n",
       "Cabin          687\n",
       "Embarked         2\n",
       "dtype: int64"
      ]
     },
     "execution_count": 8,
     "metadata": {},
     "output_type": "execute_result"
    }
   ],
   "source": [
    "training.isnull().sum()"
   ]
  },
  {
   "cell_type": "code",
   "execution_count": 9,
   "id": "9e832e71",
   "metadata": {
    "execution": {
     "iopub.execute_input": "2022-06-30T20:16:04.161780Z",
     "iopub.status.busy": "2022-06-30T20:16:04.161024Z",
     "iopub.status.idle": "2022-06-30T20:16:04.217584Z",
     "shell.execute_reply": "2022-06-30T20:16:04.216376Z"
    },
    "papermill": {
     "duration": 0.073657,
     "end_time": "2022-06-30T20:16:04.220386",
     "exception": false,
     "start_time": "2022-06-30T20:16:04.146729",
     "status": "completed"
    },
    "tags": []
   },
   "outputs": [],
   "source": [
    "training['pre_name']=0\n",
    "for i in training:\n",
    "    training['pre_name']=training.Name.str.extract('([A-Za-z]+)\\.')"
   ]
  },
  {
   "cell_type": "code",
   "execution_count": 10,
   "id": "76bfd8c2",
   "metadata": {
    "execution": {
     "iopub.execute_input": "2022-06-30T20:16:04.248849Z",
     "iopub.status.busy": "2022-06-30T20:16:04.248066Z",
     "iopub.status.idle": "2022-06-30T20:16:04.272188Z",
     "shell.execute_reply": "2022-06-30T20:16:04.271105Z"
    },
    "papermill": {
     "duration": 0.040862,
     "end_time": "2022-06-30T20:16:04.274558",
     "exception": false,
     "start_time": "2022-06-30T20:16:04.233696",
     "status": "completed"
    },
    "tags": []
   },
   "outputs": [
    {
     "data": {
      "text/html": [
       "<div>\n",
       "<style scoped>\n",
       "    .dataframe tbody tr th:only-of-type {\n",
       "        vertical-align: middle;\n",
       "    }\n",
       "\n",
       "    .dataframe tbody tr th {\n",
       "        vertical-align: top;\n",
       "    }\n",
       "\n",
       "    .dataframe thead th {\n",
       "        text-align: right;\n",
       "    }\n",
       "</style>\n",
       "<table border=\"1\" class=\"dataframe\">\n",
       "  <thead>\n",
       "    <tr style=\"text-align: right;\">\n",
       "      <th></th>\n",
       "      <th>PassengerId</th>\n",
       "      <th>Survived</th>\n",
       "      <th>Pclass</th>\n",
       "      <th>Name</th>\n",
       "      <th>Sex</th>\n",
       "      <th>Age</th>\n",
       "      <th>SibSp</th>\n",
       "      <th>Parch</th>\n",
       "      <th>Ticket</th>\n",
       "      <th>Fare</th>\n",
       "      <th>Cabin</th>\n",
       "      <th>Embarked</th>\n",
       "      <th>pre_name</th>\n",
       "    </tr>\n",
       "  </thead>\n",
       "  <tbody>\n",
       "    <tr>\n",
       "      <th>0</th>\n",
       "      <td>1</td>\n",
       "      <td>0</td>\n",
       "      <td>3</td>\n",
       "      <td>Braund, Mr. Owen Harris</td>\n",
       "      <td>male</td>\n",
       "      <td>22.0</td>\n",
       "      <td>1</td>\n",
       "      <td>0</td>\n",
       "      <td>A/5 21171</td>\n",
       "      <td>7.2500</td>\n",
       "      <td>NaN</td>\n",
       "      <td>S</td>\n",
       "      <td>Mr</td>\n",
       "    </tr>\n",
       "    <tr>\n",
       "      <th>1</th>\n",
       "      <td>2</td>\n",
       "      <td>1</td>\n",
       "      <td>1</td>\n",
       "      <td>Cumings, Mrs. John Bradley (Florence Briggs Th...</td>\n",
       "      <td>female</td>\n",
       "      <td>38.0</td>\n",
       "      <td>1</td>\n",
       "      <td>0</td>\n",
       "      <td>PC 17599</td>\n",
       "      <td>71.2833</td>\n",
       "      <td>C85</td>\n",
       "      <td>C</td>\n",
       "      <td>Mrs</td>\n",
       "    </tr>\n",
       "    <tr>\n",
       "      <th>2</th>\n",
       "      <td>3</td>\n",
       "      <td>1</td>\n",
       "      <td>3</td>\n",
       "      <td>Heikkinen, Miss. Laina</td>\n",
       "      <td>female</td>\n",
       "      <td>26.0</td>\n",
       "      <td>0</td>\n",
       "      <td>0</td>\n",
       "      <td>STON/O2. 3101282</td>\n",
       "      <td>7.9250</td>\n",
       "      <td>NaN</td>\n",
       "      <td>S</td>\n",
       "      <td>Miss</td>\n",
       "    </tr>\n",
       "    <tr>\n",
       "      <th>3</th>\n",
       "      <td>4</td>\n",
       "      <td>1</td>\n",
       "      <td>1</td>\n",
       "      <td>Futrelle, Mrs. Jacques Heath (Lily May Peel)</td>\n",
       "      <td>female</td>\n",
       "      <td>35.0</td>\n",
       "      <td>1</td>\n",
       "      <td>0</td>\n",
       "      <td>113803</td>\n",
       "      <td>53.1000</td>\n",
       "      <td>C123</td>\n",
       "      <td>S</td>\n",
       "      <td>Mrs</td>\n",
       "    </tr>\n",
       "    <tr>\n",
       "      <th>4</th>\n",
       "      <td>5</td>\n",
       "      <td>0</td>\n",
       "      <td>3</td>\n",
       "      <td>Allen, Mr. William Henry</td>\n",
       "      <td>male</td>\n",
       "      <td>35.0</td>\n",
       "      <td>0</td>\n",
       "      <td>0</td>\n",
       "      <td>373450</td>\n",
       "      <td>8.0500</td>\n",
       "      <td>NaN</td>\n",
       "      <td>S</td>\n",
       "      <td>Mr</td>\n",
       "    </tr>\n",
       "    <tr>\n",
       "      <th>...</th>\n",
       "      <td>...</td>\n",
       "      <td>...</td>\n",
       "      <td>...</td>\n",
       "      <td>...</td>\n",
       "      <td>...</td>\n",
       "      <td>...</td>\n",
       "      <td>...</td>\n",
       "      <td>...</td>\n",
       "      <td>...</td>\n",
       "      <td>...</td>\n",
       "      <td>...</td>\n",
       "      <td>...</td>\n",
       "      <td>...</td>\n",
       "    </tr>\n",
       "    <tr>\n",
       "      <th>886</th>\n",
       "      <td>887</td>\n",
       "      <td>0</td>\n",
       "      <td>2</td>\n",
       "      <td>Montvila, Rev. Juozas</td>\n",
       "      <td>male</td>\n",
       "      <td>27.0</td>\n",
       "      <td>0</td>\n",
       "      <td>0</td>\n",
       "      <td>211536</td>\n",
       "      <td>13.0000</td>\n",
       "      <td>NaN</td>\n",
       "      <td>S</td>\n",
       "      <td>Rev</td>\n",
       "    </tr>\n",
       "    <tr>\n",
       "      <th>887</th>\n",
       "      <td>888</td>\n",
       "      <td>1</td>\n",
       "      <td>1</td>\n",
       "      <td>Graham, Miss. Margaret Edith</td>\n",
       "      <td>female</td>\n",
       "      <td>19.0</td>\n",
       "      <td>0</td>\n",
       "      <td>0</td>\n",
       "      <td>112053</td>\n",
       "      <td>30.0000</td>\n",
       "      <td>B42</td>\n",
       "      <td>S</td>\n",
       "      <td>Miss</td>\n",
       "    </tr>\n",
       "    <tr>\n",
       "      <th>888</th>\n",
       "      <td>889</td>\n",
       "      <td>0</td>\n",
       "      <td>3</td>\n",
       "      <td>Johnston, Miss. Catherine Helen \"Carrie\"</td>\n",
       "      <td>female</td>\n",
       "      <td>NaN</td>\n",
       "      <td>1</td>\n",
       "      <td>2</td>\n",
       "      <td>W./C. 6607</td>\n",
       "      <td>23.4500</td>\n",
       "      <td>NaN</td>\n",
       "      <td>S</td>\n",
       "      <td>Miss</td>\n",
       "    </tr>\n",
       "    <tr>\n",
       "      <th>889</th>\n",
       "      <td>890</td>\n",
       "      <td>1</td>\n",
       "      <td>1</td>\n",
       "      <td>Behr, Mr. Karl Howell</td>\n",
       "      <td>male</td>\n",
       "      <td>26.0</td>\n",
       "      <td>0</td>\n",
       "      <td>0</td>\n",
       "      <td>111369</td>\n",
       "      <td>30.0000</td>\n",
       "      <td>C148</td>\n",
       "      <td>C</td>\n",
       "      <td>Mr</td>\n",
       "    </tr>\n",
       "    <tr>\n",
       "      <th>890</th>\n",
       "      <td>891</td>\n",
       "      <td>0</td>\n",
       "      <td>3</td>\n",
       "      <td>Dooley, Mr. Patrick</td>\n",
       "      <td>male</td>\n",
       "      <td>32.0</td>\n",
       "      <td>0</td>\n",
       "      <td>0</td>\n",
       "      <td>370376</td>\n",
       "      <td>7.7500</td>\n",
       "      <td>NaN</td>\n",
       "      <td>Q</td>\n",
       "      <td>Mr</td>\n",
       "    </tr>\n",
       "  </tbody>\n",
       "</table>\n",
       "<p>891 rows × 13 columns</p>\n",
       "</div>"
      ],
      "text/plain": [
       "     PassengerId  Survived  Pclass  \\\n",
       "0              1         0       3   \n",
       "1              2         1       1   \n",
       "2              3         1       3   \n",
       "3              4         1       1   \n",
       "4              5         0       3   \n",
       "..           ...       ...     ...   \n",
       "886          887         0       2   \n",
       "887          888         1       1   \n",
       "888          889         0       3   \n",
       "889          890         1       1   \n",
       "890          891         0       3   \n",
       "\n",
       "                                                  Name     Sex   Age  SibSp  \\\n",
       "0                              Braund, Mr. Owen Harris    male  22.0      1   \n",
       "1    Cumings, Mrs. John Bradley (Florence Briggs Th...  female  38.0      1   \n",
       "2                               Heikkinen, Miss. Laina  female  26.0      0   \n",
       "3         Futrelle, Mrs. Jacques Heath (Lily May Peel)  female  35.0      1   \n",
       "4                             Allen, Mr. William Henry    male  35.0      0   \n",
       "..                                                 ...     ...   ...    ...   \n",
       "886                              Montvila, Rev. Juozas    male  27.0      0   \n",
       "887                       Graham, Miss. Margaret Edith  female  19.0      0   \n",
       "888           Johnston, Miss. Catherine Helen \"Carrie\"  female   NaN      1   \n",
       "889                              Behr, Mr. Karl Howell    male  26.0      0   \n",
       "890                                Dooley, Mr. Patrick    male  32.0      0   \n",
       "\n",
       "     Parch            Ticket     Fare Cabin Embarked pre_name  \n",
       "0        0         A/5 21171   7.2500   NaN        S       Mr  \n",
       "1        0          PC 17599  71.2833   C85        C      Mrs  \n",
       "2        0  STON/O2. 3101282   7.9250   NaN        S     Miss  \n",
       "3        0            113803  53.1000  C123        S      Mrs  \n",
       "4        0            373450   8.0500   NaN        S       Mr  \n",
       "..     ...               ...      ...   ...      ...      ...  \n",
       "886      0            211536  13.0000   NaN        S      Rev  \n",
       "887      0            112053  30.0000   B42        S     Miss  \n",
       "888      2        W./C. 6607  23.4500   NaN        S     Miss  \n",
       "889      0            111369  30.0000  C148        C       Mr  \n",
       "890      0            370376   7.7500   NaN        Q       Mr  \n",
       "\n",
       "[891 rows x 13 columns]"
      ]
     },
     "execution_count": 10,
     "metadata": {},
     "output_type": "execute_result"
    }
   ],
   "source": [
    "training"
   ]
  },
  {
   "cell_type": "code",
   "execution_count": 11,
   "id": "7033b5b8",
   "metadata": {
    "execution": {
     "iopub.execute_input": "2022-06-30T20:16:04.303505Z",
     "iopub.status.busy": "2022-06-30T20:16:04.302789Z",
     "iopub.status.idle": "2022-06-30T20:16:04.333415Z",
     "shell.execute_reply": "2022-06-30T20:16:04.332216Z"
    },
    "papermill": {
     "duration": 0.047718,
     "end_time": "2022-06-30T20:16:04.335831",
     "exception": false,
     "start_time": "2022-06-30T20:16:04.288113",
     "status": "completed"
    },
    "tags": []
   },
   "outputs": [
    {
     "data": {
      "text/html": [
       "<div>\n",
       "<style scoped>\n",
       "    .dataframe tbody tr th:only-of-type {\n",
       "        vertical-align: middle;\n",
       "    }\n",
       "\n",
       "    .dataframe tbody tr th {\n",
       "        vertical-align: top;\n",
       "    }\n",
       "\n",
       "    .dataframe thead th {\n",
       "        text-align: right;\n",
       "    }\n",
       "</style>\n",
       "<table border=\"1\" class=\"dataframe\">\n",
       "  <thead>\n",
       "    <tr style=\"text-align: right;\">\n",
       "      <th>Sex</th>\n",
       "      <th>female</th>\n",
       "      <th>male</th>\n",
       "    </tr>\n",
       "    <tr>\n",
       "      <th>pre_name</th>\n",
       "      <th></th>\n",
       "      <th></th>\n",
       "    </tr>\n",
       "  </thead>\n",
       "  <tbody>\n",
       "    <tr>\n",
       "      <th>Capt</th>\n",
       "      <td>0</td>\n",
       "      <td>1</td>\n",
       "    </tr>\n",
       "    <tr>\n",
       "      <th>Col</th>\n",
       "      <td>0</td>\n",
       "      <td>2</td>\n",
       "    </tr>\n",
       "    <tr>\n",
       "      <th>Countess</th>\n",
       "      <td>1</td>\n",
       "      <td>0</td>\n",
       "    </tr>\n",
       "    <tr>\n",
       "      <th>Don</th>\n",
       "      <td>0</td>\n",
       "      <td>1</td>\n",
       "    </tr>\n",
       "    <tr>\n",
       "      <th>Dr</th>\n",
       "      <td>1</td>\n",
       "      <td>6</td>\n",
       "    </tr>\n",
       "    <tr>\n",
       "      <th>Jonkheer</th>\n",
       "      <td>0</td>\n",
       "      <td>1</td>\n",
       "    </tr>\n",
       "    <tr>\n",
       "      <th>Lady</th>\n",
       "      <td>1</td>\n",
       "      <td>0</td>\n",
       "    </tr>\n",
       "    <tr>\n",
       "      <th>Major</th>\n",
       "      <td>0</td>\n",
       "      <td>2</td>\n",
       "    </tr>\n",
       "    <tr>\n",
       "      <th>Master</th>\n",
       "      <td>0</td>\n",
       "      <td>40</td>\n",
       "    </tr>\n",
       "    <tr>\n",
       "      <th>Miss</th>\n",
       "      <td>182</td>\n",
       "      <td>0</td>\n",
       "    </tr>\n",
       "    <tr>\n",
       "      <th>Mlle</th>\n",
       "      <td>2</td>\n",
       "      <td>0</td>\n",
       "    </tr>\n",
       "    <tr>\n",
       "      <th>Mme</th>\n",
       "      <td>1</td>\n",
       "      <td>0</td>\n",
       "    </tr>\n",
       "    <tr>\n",
       "      <th>Mr</th>\n",
       "      <td>0</td>\n",
       "      <td>517</td>\n",
       "    </tr>\n",
       "    <tr>\n",
       "      <th>Mrs</th>\n",
       "      <td>125</td>\n",
       "      <td>0</td>\n",
       "    </tr>\n",
       "    <tr>\n",
       "      <th>Ms</th>\n",
       "      <td>1</td>\n",
       "      <td>0</td>\n",
       "    </tr>\n",
       "    <tr>\n",
       "      <th>Rev</th>\n",
       "      <td>0</td>\n",
       "      <td>6</td>\n",
       "    </tr>\n",
       "    <tr>\n",
       "      <th>Sir</th>\n",
       "      <td>0</td>\n",
       "      <td>1</td>\n",
       "    </tr>\n",
       "  </tbody>\n",
       "</table>\n",
       "</div>"
      ],
      "text/plain": [
       "Sex       female  male\n",
       "pre_name              \n",
       "Capt           0     1\n",
       "Col            0     2\n",
       "Countess       1     0\n",
       "Don            0     1\n",
       "Dr             1     6\n",
       "Jonkheer       0     1\n",
       "Lady           1     0\n",
       "Major          0     2\n",
       "Master         0    40\n",
       "Miss         182     0\n",
       "Mlle           2     0\n",
       "Mme            1     0\n",
       "Mr             0   517\n",
       "Mrs          125     0\n",
       "Ms             1     0\n",
       "Rev            0     6\n",
       "Sir            0     1"
      ]
     },
     "execution_count": 11,
     "metadata": {},
     "output_type": "execute_result"
    }
   ],
   "source": [
    "pd.crosstab(training.pre_name,training.Sex)"
   ]
  },
  {
   "cell_type": "code",
   "execution_count": 12,
   "id": "e11c46b3",
   "metadata": {
    "execution": {
     "iopub.execute_input": "2022-06-30T20:16:04.364914Z",
     "iopub.status.busy": "2022-06-30T20:16:04.364492Z",
     "iopub.status.idle": "2022-06-30T20:16:04.373849Z",
     "shell.execute_reply": "2022-06-30T20:16:04.372635Z"
    },
    "papermill": {
     "duration": 0.026549,
     "end_time": "2022-06-30T20:16:04.376091",
     "exception": false,
     "start_time": "2022-06-30T20:16:04.349542",
     "status": "completed"
    },
    "tags": []
   },
   "outputs": [],
   "source": [
    "training['pre_name'].replace(['Mlle','Mme','Ms','Dr','Major','Lady','Countess','Jonkheer','Col','Rev','Capt','Sir','Don'],\n",
    "                           ['Miss','Miss','Miss','Mr','Mr','Mrs','Mrs','Mr','Mr','Mr','Mr','Mr','Mr'],inplace=True)\n",
    "\n"
   ]
  },
  {
   "cell_type": "code",
   "execution_count": 13,
   "id": "a3058e8f",
   "metadata": {
    "execution": {
     "iopub.execute_input": "2022-06-30T20:16:04.405610Z",
     "iopub.status.busy": "2022-06-30T20:16:04.404861Z",
     "iopub.status.idle": "2022-06-30T20:16:04.411298Z",
     "shell.execute_reply": "2022-06-30T20:16:04.410495Z"
    },
    "papermill": {
     "duration": 0.023729,
     "end_time": "2022-06-30T20:16:04.413442",
     "exception": false,
     "start_time": "2022-06-30T20:16:04.389713",
     "status": "completed"
    },
    "tags": []
   },
   "outputs": [
    {
     "data": {
      "text/plain": [
       "array(['Mr', 'Mrs', 'Miss', 'Master'], dtype=object)"
      ]
     },
     "execution_count": 13,
     "metadata": {},
     "output_type": "execute_result"
    }
   ],
   "source": [
    "training['pre_name'].unique()"
   ]
  },
  {
   "cell_type": "code",
   "execution_count": 14,
   "id": "1bff0b0c",
   "metadata": {
    "execution": {
     "iopub.execute_input": "2022-06-30T20:16:04.443552Z",
     "iopub.status.busy": "2022-06-30T20:16:04.442763Z",
     "iopub.status.idle": "2022-06-30T20:16:04.452910Z",
     "shell.execute_reply": "2022-06-30T20:16:04.451693Z"
    },
    "papermill": {
     "duration": 0.027694,
     "end_time": "2022-06-30T20:16:04.455157",
     "exception": false,
     "start_time": "2022-06-30T20:16:04.427463",
     "status": "completed"
    },
    "tags": []
   },
   "outputs": [
    {
     "name": "stdout",
     "output_type": "stream",
     "text": [
      "% of women who survived: 0.7420382165605095\n",
      "% of men who survived: 0.18890814558058924\n"
     ]
    }
   ],
   "source": [
    "women = training.loc[training.Sex == 'female'][\"Survived\"]\n",
    "rate_women = sum(women)/len(women)\n",
    "print(\"% of women who survived:\", rate_women)\n",
    "men = training.loc[training.Sex == 'male'][\"Survived\"]\n",
    "rate_men = sum(men)/len(men)\n",
    "\n",
    "print(\"% of men who survived:\", rate_men)"
   ]
  },
  {
   "cell_type": "code",
   "execution_count": 15,
   "id": "fa9a99fe",
   "metadata": {
    "execution": {
     "iopub.execute_input": "2022-06-30T20:16:04.485044Z",
     "iopub.status.busy": "2022-06-30T20:16:04.484409Z",
     "iopub.status.idle": "2022-06-30T20:16:04.494013Z",
     "shell.execute_reply": "2022-06-30T20:16:04.493193Z"
    },
    "papermill": {
     "duration": 0.026842,
     "end_time": "2022-06-30T20:16:04.496019",
     "exception": false,
     "start_time": "2022-06-30T20:16:04.469177",
     "status": "completed"
    },
    "tags": []
   },
   "outputs": [
    {
     "data": {
      "text/plain": [
       "pre_name\n",
       "Master     4.574167\n",
       "Miss      21.860000\n",
       "Mr        33.022727\n",
       "Mrs       35.981818\n",
       "Name: Age, dtype: float64"
      ]
     },
     "execution_count": 15,
     "metadata": {},
     "output_type": "execute_result"
    }
   ],
   "source": [
    "training.groupby('pre_name')['Age'].mean()"
   ]
  },
  {
   "cell_type": "code",
   "execution_count": 16,
   "id": "faec97db",
   "metadata": {
    "execution": {
     "iopub.execute_input": "2022-06-30T20:16:04.526407Z",
     "iopub.status.busy": "2022-06-30T20:16:04.525729Z",
     "iopub.status.idle": "2022-06-30T20:16:04.536251Z",
     "shell.execute_reply": "2022-06-30T20:16:04.535211Z"
    },
    "papermill": {
     "duration": 0.028563,
     "end_time": "2022-06-30T20:16:04.538651",
     "exception": false,
     "start_time": "2022-06-30T20:16:04.510088",
     "status": "completed"
    },
    "tags": []
   },
   "outputs": [],
   "source": [
    "training.loc[(training.Age.isnull())&(training.pre_name=='Mr'),'Age']=33\n",
    "training.loc[(training.Age.isnull())&(training.pre_name=='Mrs'),'Age']=36\n",
    "training.loc[(training.Age.isnull())&(training.pre_name=='Master'),'Age']=5\n",
    "training.loc[(training.Age.isnull())&(training.pre_name=='Miss'),'Age']=22"
   ]
  },
  {
   "cell_type": "code",
   "execution_count": 17,
   "id": "3a7f3618",
   "metadata": {
    "execution": {
     "iopub.execute_input": "2022-06-30T20:16:04.569862Z",
     "iopub.status.busy": "2022-06-30T20:16:04.569199Z",
     "iopub.status.idle": "2022-06-30T20:16:04.579027Z",
     "shell.execute_reply": "2022-06-30T20:16:04.578200Z"
    },
    "papermill": {
     "duration": 0.027332,
     "end_time": "2022-06-30T20:16:04.580968",
     "exception": false,
     "start_time": "2022-06-30T20:16:04.553636",
     "status": "completed"
    },
    "tags": []
   },
   "outputs": [
    {
     "data": {
      "text/plain": [
       "PassengerId      0\n",
       "Survived         0\n",
       "Pclass           0\n",
       "Name             0\n",
       "Sex              0\n",
       "Age              0\n",
       "SibSp            0\n",
       "Parch            0\n",
       "Ticket           0\n",
       "Fare             0\n",
       "Cabin          687\n",
       "Embarked         2\n",
       "pre_name         0\n",
       "dtype: int64"
      ]
     },
     "execution_count": 17,
     "metadata": {},
     "output_type": "execute_result"
    }
   ],
   "source": [
    "training.isnull().sum()"
   ]
  },
  {
   "cell_type": "code",
   "execution_count": 18,
   "id": "904e6dfd",
   "metadata": {
    "execution": {
     "iopub.execute_input": "2022-06-30T20:16:04.611756Z",
     "iopub.status.busy": "2022-06-30T20:16:04.610790Z",
     "iopub.status.idle": "2022-06-30T20:16:04.848188Z",
     "shell.execute_reply": "2022-06-30T20:16:04.847262Z"
    },
    "papermill": {
     "duration": 0.255041,
     "end_time": "2022-06-30T20:16:04.850348",
     "exception": false,
     "start_time": "2022-06-30T20:16:04.595307",
     "status": "completed"
    },
    "tags": []
   },
   "outputs": [
    {
     "data": {
      "image/png": "[encoded data removed]",
      "text/plain": [
       "<Figure size 432x288 with 1 Axes>"
      ]
     },
     "metadata": {
      "needs_background": "light"
     },
     "output_type": "display_data"
    }
   ],
   "source": [
    "plt.figure()\n",
    "sns.countplot(data=training , x = training['Embarked'],hue='Survived')\n",
    "plt.show()"
   ]
  },
  {
   "cell_type": "code",
   "execution_count": 19,
   "id": "eeb5ee53",
   "metadata": {
    "execution": {
     "iopub.execute_input": "2022-06-30T20:16:04.882036Z",
     "iopub.status.busy": "2022-06-30T20:16:04.881636Z",
     "iopub.status.idle": "2022-06-30T20:16:04.889256Z",
     "shell.execute_reply": "2022-06-30T20:16:04.888295Z"
    },
    "papermill": {
     "duration": 0.027346,
     "end_time": "2022-06-30T20:16:04.892867",
     "exception": false,
     "start_time": "2022-06-30T20:16:04.865521",
     "status": "completed"
    },
    "tags": []
   },
   "outputs": [
    {
     "data": {
      "text/plain": [
       "0    S\n",
       "dtype: object"
      ]
     },
     "execution_count": 19,
     "metadata": {},
     "output_type": "execute_result"
    }
   ],
   "source": [
    "training['Embarked'].mode()"
   ]
  },
  {
   "cell_type": "code",
   "execution_count": 20,
   "id": "5b1eb53e",
   "metadata": {
    "execution": {
     "iopub.execute_input": "2022-06-30T20:16:04.925450Z",
     "iopub.status.busy": "2022-06-30T20:16:04.925039Z",
     "iopub.status.idle": "2022-06-30T20:16:04.930756Z",
     "shell.execute_reply": "2022-06-30T20:16:04.929568Z"
    },
    "papermill": {
     "duration": 0.024683,
     "end_time": "2022-06-30T20:16:04.932979",
     "exception": false,
     "start_time": "2022-06-30T20:16:04.908296",
     "status": "completed"
    },
    "tags": []
   },
   "outputs": [],
   "source": [
    "training['Embarked'].fillna('S',inplace=True)"
   ]
  },
  {
   "cell_type": "code",
   "execution_count": 21,
   "id": "5dc35e86",
   "metadata": {
    "execution": {
     "iopub.execute_input": "2022-06-30T20:16:04.964429Z",
     "iopub.status.busy": "2022-06-30T20:16:04.964058Z",
     "iopub.status.idle": "2022-06-30T20:16:04.972347Z",
     "shell.execute_reply": "2022-06-30T20:16:04.971618Z"
    },
    "papermill": {
     "duration": 0.026502,
     "end_time": "2022-06-30T20:16:04.974282",
     "exception": false,
     "start_time": "2022-06-30T20:16:04.947780",
     "status": "completed"
    },
    "tags": []
   },
   "outputs": [
    {
     "data": {
      "text/plain": [
       "PassengerId      0\n",
       "Survived         0\n",
       "Pclass           0\n",
       "Name             0\n",
       "Sex              0\n",
       "Age              0\n",
       "SibSp            0\n",
       "Parch            0\n",
       "Ticket           0\n",
       "Fare             0\n",
       "Cabin          687\n",
       "Embarked         0\n",
       "pre_name         0\n",
       "dtype: int64"
      ]
     },
     "execution_count": 21,
     "metadata": {},
     "output_type": "execute_result"
    }
   ],
   "source": [
    "training.isnull().sum()"
   ]
  },
  {
   "cell_type": "code",
   "execution_count": 22,
   "id": "3784f816",
   "metadata": {
    "execution": {
     "iopub.execute_input": "2022-06-30T20:16:05.005756Z",
     "iopub.status.busy": "2022-06-30T20:16:05.005141Z",
     "iopub.status.idle": "2022-06-30T20:16:05.019636Z",
     "shell.execute_reply": "2022-06-30T20:16:05.018788Z"
    },
    "papermill": {
     "duration": 0.032716,
     "end_time": "2022-06-30T20:16:05.021684",
     "exception": false,
     "start_time": "2022-06-30T20:16:04.988968",
     "status": "completed"
    },
    "tags": []
   },
   "outputs": [
    {
     "data": {
      "text/html": [
       "<div>\n",
       "<style scoped>\n",
       "    .dataframe tbody tr th:only-of-type {\n",
       "        vertical-align: middle;\n",
       "    }\n",
       "\n",
       "    .dataframe tbody tr th {\n",
       "        vertical-align: top;\n",
       "    }\n",
       "\n",
       "    .dataframe thead th {\n",
       "        text-align: right;\n",
       "    }\n",
       "</style>\n",
       "<table border=\"1\" class=\"dataframe\">\n",
       "  <thead>\n",
       "    <tr style=\"text-align: right;\">\n",
       "      <th></th>\n",
       "      <th>Survived</th>\n",
       "      <th>Pclass</th>\n",
       "      <th>Sex</th>\n",
       "      <th>Age</th>\n",
       "      <th>SibSp</th>\n",
       "      <th>Parch</th>\n",
       "      <th>Fare</th>\n",
       "      <th>Embarked</th>\n",
       "    </tr>\n",
       "  </thead>\n",
       "  <tbody>\n",
       "    <tr>\n",
       "      <th>0</th>\n",
       "      <td>0</td>\n",
       "      <td>3</td>\n",
       "      <td>male</td>\n",
       "      <td>22.0</td>\n",
       "      <td>1</td>\n",
       "      <td>0</td>\n",
       "      <td>7.2500</td>\n",
       "      <td>S</td>\n",
       "    </tr>\n",
       "    <tr>\n",
       "      <th>1</th>\n",
       "      <td>1</td>\n",
       "      <td>1</td>\n",
       "      <td>female</td>\n",
       "      <td>38.0</td>\n",
       "      <td>1</td>\n",
       "      <td>0</td>\n",
       "      <td>71.2833</td>\n",
       "      <td>C</td>\n",
       "    </tr>\n",
       "    <tr>\n",
       "      <th>2</th>\n",
       "      <td>1</td>\n",
       "      <td>3</td>\n",
       "      <td>female</td>\n",
       "      <td>26.0</td>\n",
       "      <td>0</td>\n",
       "      <td>0</td>\n",
       "      <td>7.9250</td>\n",
       "      <td>S</td>\n",
       "    </tr>\n",
       "    <tr>\n",
       "      <th>3</th>\n",
       "      <td>1</td>\n",
       "      <td>1</td>\n",
       "      <td>female</td>\n",
       "      <td>35.0</td>\n",
       "      <td>1</td>\n",
       "      <td>0</td>\n",
       "      <td>53.1000</td>\n",
       "      <td>S</td>\n",
       "    </tr>\n",
       "    <tr>\n",
       "      <th>4</th>\n",
       "      <td>0</td>\n",
       "      <td>3</td>\n",
       "      <td>male</td>\n",
       "      <td>35.0</td>\n",
       "      <td>0</td>\n",
       "      <td>0</td>\n",
       "      <td>8.0500</td>\n",
       "      <td>S</td>\n",
       "    </tr>\n",
       "  </tbody>\n",
       "</table>\n",
       "</div>"
      ],
      "text/plain": [
       "   Survived  Pclass     Sex   Age  SibSp  Parch     Fare Embarked\n",
       "0         0       3    male  22.0      1      0   7.2500        S\n",
       "1         1       1  female  38.0      1      0  71.2833        C\n",
       "2         1       3  female  26.0      0      0   7.9250        S\n",
       "3         1       1  female  35.0      1      0  53.1000        S\n",
       "4         0       3    male  35.0      0      0   8.0500        S"
      ]
     },
     "execution_count": 22,
     "metadata": {},
     "output_type": "execute_result"
    }
   ],
   "source": [
    "training1 = training.drop(columns=['PassengerId','Name','Ticket','Cabin','pre_name'])\n",
    "training1.head()"
   ]
  },
  {
   "cell_type": "code",
   "execution_count": 23,
   "id": "8338c942",
   "metadata": {
    "execution": {
     "iopub.execute_input": "2022-06-30T20:16:05.053667Z",
     "iopub.status.busy": "2022-06-30T20:16:05.053056Z",
     "iopub.status.idle": "2022-06-30T20:16:05.074969Z",
     "shell.execute_reply": "2022-06-30T20:16:05.074086Z"
    },
    "papermill": {
     "duration": 0.040771,
     "end_time": "2022-06-30T20:16:05.077356",
     "exception": false,
     "start_time": "2022-06-30T20:16:05.036585",
     "status": "completed"
    },
    "tags": []
   },
   "outputs": [
    {
     "data": {
      "text/html": [
       "<div>\n",
       "<style scoped>\n",
       "    .dataframe tbody tr th:only-of-type {\n",
       "        vertical-align: middle;\n",
       "    }\n",
       "\n",
       "    .dataframe tbody tr th {\n",
       "        vertical-align: top;\n",
       "    }\n",
       "\n",
       "    .dataframe thead th {\n",
       "        text-align: right;\n",
       "    }\n",
       "</style>\n",
       "<table border=\"1\" class=\"dataframe\">\n",
       "  <thead>\n",
       "    <tr style=\"text-align: right;\">\n",
       "      <th></th>\n",
       "      <th>Survived</th>\n",
       "      <th>Pclass</th>\n",
       "      <th>Age</th>\n",
       "      <th>SibSp</th>\n",
       "      <th>Parch</th>\n",
       "      <th>Fare</th>\n",
       "      <th>Sex_male</th>\n",
       "      <th>Embarked_Q</th>\n",
       "      <th>Embarked_S</th>\n",
       "    </tr>\n",
       "  </thead>\n",
       "  <tbody>\n",
       "    <tr>\n",
       "      <th>0</th>\n",
       "      <td>0</td>\n",
       "      <td>3</td>\n",
       "      <td>22.0</td>\n",
       "      <td>1</td>\n",
       "      <td>0</td>\n",
       "      <td>7.2500</td>\n",
       "      <td>1</td>\n",
       "      <td>0</td>\n",
       "      <td>1</td>\n",
       "    </tr>\n",
       "    <tr>\n",
       "      <th>1</th>\n",
       "      <td>1</td>\n",
       "      <td>1</td>\n",
       "      <td>38.0</td>\n",
       "      <td>1</td>\n",
       "      <td>0</td>\n",
       "      <td>71.2833</td>\n",
       "      <td>0</td>\n",
       "      <td>0</td>\n",
       "      <td>0</td>\n",
       "    </tr>\n",
       "    <tr>\n",
       "      <th>2</th>\n",
       "      <td>1</td>\n",
       "      <td>3</td>\n",
       "      <td>26.0</td>\n",
       "      <td>0</td>\n",
       "      <td>0</td>\n",
       "      <td>7.9250</td>\n",
       "      <td>0</td>\n",
       "      <td>0</td>\n",
       "      <td>1</td>\n",
       "    </tr>\n",
       "    <tr>\n",
       "      <th>3</th>\n",
       "      <td>1</td>\n",
       "      <td>1</td>\n",
       "      <td>35.0</td>\n",
       "      <td>1</td>\n",
       "      <td>0</td>\n",
       "      <td>53.1000</td>\n",
       "      <td>0</td>\n",
       "      <td>0</td>\n",
       "      <td>1</td>\n",
       "    </tr>\n",
       "    <tr>\n",
       "      <th>4</th>\n",
       "      <td>0</td>\n",
       "      <td>3</td>\n",
       "      <td>35.0</td>\n",
       "      <td>0</td>\n",
       "      <td>0</td>\n",
       "      <td>8.0500</td>\n",
       "      <td>1</td>\n",
       "      <td>0</td>\n",
       "      <td>1</td>\n",
       "    </tr>\n",
       "    <tr>\n",
       "      <th>...</th>\n",
       "      <td>...</td>\n",
       "      <td>...</td>\n",
       "      <td>...</td>\n",
       "      <td>...</td>\n",
       "      <td>...</td>\n",
       "      <td>...</td>\n",
       "      <td>...</td>\n",
       "      <td>...</td>\n",
       "      <td>...</td>\n",
       "    </tr>\n",
       "    <tr>\n",
       "      <th>886</th>\n",
       "      <td>0</td>\n",
       "      <td>2</td>\n",
       "      <td>27.0</td>\n",
       "      <td>0</td>\n",
       "      <td>0</td>\n",
       "      <td>13.0000</td>\n",
       "      <td>1</td>\n",
       "      <td>0</td>\n",
       "      <td>1</td>\n",
       "    </tr>\n",
       "    <tr>\n",
       "      <th>887</th>\n",
       "      <td>1</td>\n",
       "      <td>1</td>\n",
       "      <td>19.0</td>\n",
       "      <td>0</td>\n",
       "      <td>0</td>\n",
       "      <td>30.0000</td>\n",
       "      <td>0</td>\n",
       "      <td>0</td>\n",
       "      <td>1</td>\n",
       "    </tr>\n",
       "    <tr>\n",
       "      <th>888</th>\n",
       "      <td>0</td>\n",
       "      <td>3</td>\n",
       "      <td>22.0</td>\n",
       "      <td>1</td>\n",
       "      <td>2</td>\n",
       "      <td>23.4500</td>\n",
       "      <td>0</td>\n",
       "      <td>0</td>\n",
       "      <td>1</td>\n",
       "    </tr>\n",
       "    <tr>\n",
       "      <th>889</th>\n",
       "      <td>1</td>\n",
       "      <td>1</td>\n",
       "      <td>26.0</td>\n",
       "      <td>0</td>\n",
       "      <td>0</td>\n",
       "      <td>30.0000</td>\n",
       "      <td>1</td>\n",
       "      <td>0</td>\n",
       "      <td>0</td>\n",
       "    </tr>\n",
       "    <tr>\n",
       "      <th>890</th>\n",
       "      <td>0</td>\n",
       "      <td>3</td>\n",
       "      <td>32.0</td>\n",
       "      <td>0</td>\n",
       "      <td>0</td>\n",
       "      <td>7.7500</td>\n",
       "      <td>1</td>\n",
       "      <td>1</td>\n",
       "      <td>0</td>\n",
       "    </tr>\n",
       "  </tbody>\n",
       "</table>\n",
       "<p>891 rows × 9 columns</p>\n",
       "</div>"
      ],
      "text/plain": [
       "     Survived  Pclass   Age  SibSp  Parch     Fare  Sex_male  Embarked_Q  \\\n",
       "0           0       3  22.0      1      0   7.2500         1           0   \n",
       "1           1       1  38.0      1      0  71.2833         0           0   \n",
       "2           1       3  26.0      0      0   7.9250         0           0   \n",
       "3           1       1  35.0      1      0  53.1000         0           0   \n",
       "4           0       3  35.0      0      0   8.0500         1           0   \n",
       "..        ...     ...   ...    ...    ...      ...       ...         ...   \n",
       "886         0       2  27.0      0      0  13.0000         1           0   \n",
       "887         1       1  19.0      0      0  30.0000         0           0   \n",
       "888         0       3  22.0      1      2  23.4500         0           0   \n",
       "889         1       1  26.0      0      0  30.0000         1           0   \n",
       "890         0       3  32.0      0      0   7.7500         1           1   \n",
       "\n",
       "     Embarked_S  \n",
       "0             1  \n",
       "1             0  \n",
       "2             1  \n",
       "3             1  \n",
       "4             1  \n",
       "..          ...  \n",
       "886           1  \n",
       "887           1  \n",
       "888           1  \n",
       "889           0  \n",
       "890           0  \n",
       "\n",
       "[891 rows x 9 columns]"
      ]
     },
     "execution_count": 23,
     "metadata": {},
     "output_type": "execute_result"
    }
   ],
   "source": [
    "training2 = pd.get_dummies(training1, drop_first=True)\n",
    "training2"
   ]
  },
  {
   "cell_type": "code",
   "execution_count": 24,
   "id": "59abfaa2",
   "metadata": {
    "execution": {
     "iopub.execute_input": "2022-06-30T20:16:05.110634Z",
     "iopub.status.busy": "2022-06-30T20:16:05.110068Z",
     "iopub.status.idle": "2022-06-30T20:16:05.119721Z",
     "shell.execute_reply": "2022-06-30T20:16:05.118893Z"
    },
    "papermill": {
     "duration": 0.02843,
     "end_time": "2022-06-30T20:16:05.121744",
     "exception": false,
     "start_time": "2022-06-30T20:16:05.093314",
     "status": "completed"
    },
    "tags": []
   },
   "outputs": [
    {
     "data": {
      "text/plain": [
       "0      0\n",
       "1      1\n",
       "2      1\n",
       "3      1\n",
       "4      0\n",
       "      ..\n",
       "886    0\n",
       "887    1\n",
       "888    0\n",
       "889    1\n",
       "890    0\n",
       "Name: Survived, Length: 891, dtype: int64"
      ]
     },
     "execution_count": 24,
     "metadata": {},
     "output_type": "execute_result"
    }
   ],
   "source": [
    "train_Y=training2['Survived']\n",
    "training2 = training2.drop(columns=['Survived'])\n",
    "train_Y"
   ]
  },
  {
   "cell_type": "code",
   "execution_count": 25,
   "id": "80d26d23",
   "metadata": {
    "execution": {
     "iopub.execute_input": "2022-06-30T20:16:05.154855Z",
     "iopub.status.busy": "2022-06-30T20:16:05.154230Z",
     "iopub.status.idle": "2022-06-30T20:16:05.160760Z",
     "shell.execute_reply": "2022-06-30T20:16:05.159994Z"
    },
    "papermill": {
     "duration": 0.025706,
     "end_time": "2022-06-30T20:16:05.162839",
     "exception": false,
     "start_time": "2022-06-30T20:16:05.137133",
     "status": "completed"
    },
    "tags": []
   },
   "outputs": [],
   "source": [
    "x_train, x_test, y_train, y_test = train_test_split(training2, train_Y, test_size=0.2, random_state=0)"
   ]
  },
  {
   "cell_type": "code",
   "execution_count": 26,
   "id": "81257a9d",
   "metadata": {
    "execution": {
     "iopub.execute_input": "2022-06-30T20:16:05.195706Z",
     "iopub.status.busy": "2022-06-30T20:16:05.195136Z",
     "iopub.status.idle": "2022-06-30T20:16:05.206647Z",
     "shell.execute_reply": "2022-06-30T20:16:05.205695Z"
    },
    "papermill": {
     "duration": 0.031024,
     "end_time": "2022-06-30T20:16:05.209183",
     "exception": false,
     "start_time": "2022-06-30T20:16:05.178159",
     "status": "completed"
    },
    "tags": []
   },
   "outputs": [
    {
     "name": "stdout",
     "output_type": "stream",
     "text": [
      "<class 'pandas.core.frame.DataFrame'>\n",
      "RangeIndex: 891 entries, 0 to 890\n",
      "Data columns (total 8 columns):\n",
      " #   Column      Non-Null Count  Dtype  \n",
      "---  ------      --------------  -----  \n",
      " 0   Pclass      891 non-null    int64  \n",
      " 1   Age         891 non-null    float64\n",
      " 2   SibSp       891 non-null    int64  \n",
      " 3   Parch       891 non-null    int64  \n",
      " 4   Fare        891 non-null    float64\n",
      " 5   Sex_male    891 non-null    uint8  \n",
      " 6   Embarked_Q  891 non-null    uint8  \n",
      " 7   Embarked_S  891 non-null    uint8  \n",
      "dtypes: float64(2), int64(3), uint8(3)\n",
      "memory usage: 37.5 KB\n"
     ]
    }
   ],
   "source": [
    "training2.info()"
   ]
  },
  {
   "cell_type": "code",
   "execution_count": 27,
   "id": "3e89b971",
   "metadata": {
    "execution": {
     "iopub.execute_input": "2022-06-30T20:16:05.242830Z",
     "iopub.status.busy": "2022-06-30T20:16:05.241592Z",
     "iopub.status.idle": "2022-06-30T20:16:05.258560Z",
     "shell.execute_reply": "2022-06-30T20:16:05.257461Z"
    },
    "papermill": {
     "duration": 0.03658,
     "end_time": "2022-06-30T20:16:05.261150",
     "exception": false,
     "start_time": "2022-06-30T20:16:05.224570",
     "status": "completed"
    },
    "tags": []
   },
   "outputs": [
    {
     "data": {
      "text/html": [
       "<div>\n",
       "<style scoped>\n",
       "    .dataframe tbody tr th:only-of-type {\n",
       "        vertical-align: middle;\n",
       "    }\n",
       "\n",
       "    .dataframe tbody tr th {\n",
       "        vertical-align: top;\n",
       "    }\n",
       "\n",
       "    .dataframe thead th {\n",
       "        text-align: right;\n",
       "    }\n",
       "</style>\n",
       "<table border=\"1\" class=\"dataframe\">\n",
       "  <thead>\n",
       "    <tr style=\"text-align: right;\">\n",
       "      <th></th>\n",
       "      <th>PassengerId</th>\n",
       "      <th>Survived</th>\n",
       "      <th>Pclass</th>\n",
       "      <th>Age</th>\n",
       "      <th>SibSp</th>\n",
       "      <th>Parch</th>\n",
       "      <th>Fare</th>\n",
       "    </tr>\n",
       "  </thead>\n",
       "  <tbody>\n",
       "    <tr>\n",
       "      <th>PassengerId</th>\n",
       "      <td>1.000000</td>\n",
       "      <td>0.005007</td>\n",
       "      <td>0.035144</td>\n",
       "      <td>0.041709</td>\n",
       "      <td>0.057527</td>\n",
       "      <td>0.001652</td>\n",
       "      <td>0.012658</td>\n",
       "    </tr>\n",
       "    <tr>\n",
       "      <th>Survived</th>\n",
       "      <td>0.005007</td>\n",
       "      <td>1.000000</td>\n",
       "      <td>0.338481</td>\n",
       "      <td>0.091497</td>\n",
       "      <td>0.035322</td>\n",
       "      <td>0.081629</td>\n",
       "      <td>0.257307</td>\n",
       "    </tr>\n",
       "    <tr>\n",
       "      <th>Pclass</th>\n",
       "      <td>0.035144</td>\n",
       "      <td>0.338481</td>\n",
       "      <td>1.000000</td>\n",
       "      <td>0.339582</td>\n",
       "      <td>0.083081</td>\n",
       "      <td>0.018443</td>\n",
       "      <td>0.549500</td>\n",
       "    </tr>\n",
       "    <tr>\n",
       "      <th>Age</th>\n",
       "      <td>0.041709</td>\n",
       "      <td>0.091497</td>\n",
       "      <td>0.339582</td>\n",
       "      <td>1.000000</td>\n",
       "      <td>0.267734</td>\n",
       "      <td>0.198712</td>\n",
       "      <td>0.089087</td>\n",
       "    </tr>\n",
       "    <tr>\n",
       "      <th>SibSp</th>\n",
       "      <td>0.057527</td>\n",
       "      <td>0.035322</td>\n",
       "      <td>0.083081</td>\n",
       "      <td>0.267734</td>\n",
       "      <td>1.000000</td>\n",
       "      <td>0.414838</td>\n",
       "      <td>0.159651</td>\n",
       "    </tr>\n",
       "    <tr>\n",
       "      <th>Parch</th>\n",
       "      <td>0.001652</td>\n",
       "      <td>0.081629</td>\n",
       "      <td>0.018443</td>\n",
       "      <td>0.198712</td>\n",
       "      <td>0.414838</td>\n",
       "      <td>1.000000</td>\n",
       "      <td>0.216225</td>\n",
       "    </tr>\n",
       "    <tr>\n",
       "      <th>Fare</th>\n",
       "      <td>0.012658</td>\n",
       "      <td>0.257307</td>\n",
       "      <td>0.549500</td>\n",
       "      <td>0.089087</td>\n",
       "      <td>0.159651</td>\n",
       "      <td>0.216225</td>\n",
       "      <td>1.000000</td>\n",
       "    </tr>\n",
       "  </tbody>\n",
       "</table>\n",
       "</div>"
      ],
      "text/plain": [
       "             PassengerId  Survived    Pclass       Age     SibSp     Parch  \\\n",
       "PassengerId     1.000000  0.005007  0.035144  0.041709  0.057527  0.001652   \n",
       "Survived        0.005007  1.000000  0.338481  0.091497  0.035322  0.081629   \n",
       "Pclass          0.035144  0.338481  1.000000  0.339582  0.083081  0.018443   \n",
       "Age             0.041709  0.091497  0.339582  1.000000  0.267734  0.198712   \n",
       "SibSp           0.057527  0.035322  0.083081  0.267734  1.000000  0.414838   \n",
       "Parch           0.001652  0.081629  0.018443  0.198712  0.414838  1.000000   \n",
       "Fare            0.012658  0.257307  0.549500  0.089087  0.159651  0.216225   \n",
       "\n",
       "                 Fare  \n",
       "PassengerId  0.012658  \n",
       "Survived     0.257307  \n",
       "Pclass       0.549500  \n",
       "Age          0.089087  \n",
       "SibSp        0.159651  \n",
       "Parch        0.216225  \n",
       "Fare         1.000000  "
      ]
     },
     "execution_count": 27,
     "metadata": {},
     "output_type": "execute_result"
    }
   ],
   "source": [
    "abs(training.corr())"
   ]
  },
  {
   "cell_type": "code",
   "execution_count": 28,
   "id": "b602508a",
   "metadata": {
    "execution": {
     "iopub.execute_input": "2022-06-30T20:16:05.295159Z",
     "iopub.status.busy": "2022-06-30T20:16:05.294113Z",
     "iopub.status.idle": "2022-06-30T20:16:05.326322Z",
     "shell.execute_reply": "2022-06-30T20:16:05.325480Z"
    },
    "papermill": {
     "duration": 0.051204,
     "end_time": "2022-06-30T20:16:05.328246",
     "exception": false,
     "start_time": "2022-06-30T20:16:05.277042",
     "status": "completed"
    },
    "tags": []
   },
   "outputs": [],
   "source": [
    "test['pre_name']=0\n",
    "for i in test:\n",
    "    test['pre_name']=test.Name.str.extract('([A-Za-z]+)\\.')"
   ]
  },
  {
   "cell_type": "code",
   "execution_count": 29,
   "id": "abc6f37e",
   "metadata": {
    "execution": {
     "iopub.execute_input": "2022-06-30T20:16:05.363343Z",
     "iopub.status.busy": "2022-06-30T20:16:05.362151Z",
     "iopub.status.idle": "2022-06-30T20:16:05.370257Z",
     "shell.execute_reply": "2022-06-30T20:16:05.369175Z"
    },
    "papermill": {
     "duration": 0.027627,
     "end_time": "2022-06-30T20:16:05.372747",
     "exception": false,
     "start_time": "2022-06-30T20:16:05.345120",
     "status": "completed"
    },
    "tags": []
   },
   "outputs": [],
   "source": [
    "test['pre_name'].replace(['Mlle','Mme','Ms','Dr','Major','Lady','Countess','Jonkheer','Col','Rev','Capt','Sir','Dona'],\n",
    "                            ['Miss','Miss','Miss','Mr','Mr','Mrs','Mrs','Other','Other','Other','Mr','Mr','Mr'],inplace=True)"
   ]
  },
  {
   "cell_type": "code",
   "execution_count": 30,
   "id": "f2d9db1f",
   "metadata": {
    "execution": {
     "iopub.execute_input": "2022-06-30T20:16:05.406976Z",
     "iopub.status.busy": "2022-06-30T20:16:05.406287Z",
     "iopub.status.idle": "2022-06-30T20:16:05.416846Z",
     "shell.execute_reply": "2022-06-30T20:16:05.416044Z"
    },
    "papermill": {
     "duration": 0.030042,
     "end_time": "2022-06-30T20:16:05.418944",
     "exception": false,
     "start_time": "2022-06-30T20:16:05.388902",
     "status": "completed"
    },
    "tags": []
   },
   "outputs": [],
   "source": [
    "test.loc[(test.Age.isnull())&(test.pre_name=='Mr'),'Age']=33\n",
    "test.loc[(test.Age.isnull())&(test.pre_name=='Mrs'),'Age']=36\n",
    "test.loc[(test.Age.isnull())&(test.pre_name=='Master'),'Age']=5\n",
    "test.loc[(test.Age.isnull())&(test.pre_name=='Miss'),'Age']=22"
   ]
  },
  {
   "cell_type": "code",
   "execution_count": 31,
   "id": "effbed17",
   "metadata": {
    "execution": {
     "iopub.execute_input": "2022-06-30T20:16:05.453215Z",
     "iopub.status.busy": "2022-06-30T20:16:05.452103Z",
     "iopub.status.idle": "2022-06-30T20:16:05.461019Z",
     "shell.execute_reply": "2022-06-30T20:16:05.460246Z"
    },
    "papermill": {
     "duration": 0.02806,
     "end_time": "2022-06-30T20:16:05.463062",
     "exception": false,
     "start_time": "2022-06-30T20:16:05.435002",
     "status": "completed"
    },
    "tags": []
   },
   "outputs": [
    {
     "data": {
      "text/plain": [
       "PassengerId      0\n",
       "Pclass           0\n",
       "Name             0\n",
       "Sex              0\n",
       "Age              0\n",
       "SibSp            0\n",
       "Parch            0\n",
       "Ticket           0\n",
       "Fare             1\n",
       "Cabin          327\n",
       "Embarked         0\n",
       "pre_name         0\n",
       "dtype: int64"
      ]
     },
     "execution_count": 31,
     "metadata": {},
     "output_type": "execute_result"
    }
   ],
   "source": [
    "test.isna().sum()"
   ]
  },
  {
   "cell_type": "code",
   "execution_count": 32,
   "id": "9fe62b14",
   "metadata": {
    "execution": {
     "iopub.execute_input": "2022-06-30T20:16:05.497126Z",
     "iopub.status.busy": "2022-06-30T20:16:05.496610Z",
     "iopub.status.idle": "2022-06-30T20:16:05.512616Z",
     "shell.execute_reply": "2022-06-30T20:16:05.511852Z"
    },
    "papermill": {
     "duration": 0.035489,
     "end_time": "2022-06-30T20:16:05.514629",
     "exception": false,
     "start_time": "2022-06-30T20:16:05.479140",
     "status": "completed"
    },
    "tags": []
   },
   "outputs": [
    {
     "data": {
      "text/html": [
       "<div>\n",
       "<style scoped>\n",
       "    .dataframe tbody tr th:only-of-type {\n",
       "        vertical-align: middle;\n",
       "    }\n",
       "\n",
       "    .dataframe tbody tr th {\n",
       "        vertical-align: top;\n",
       "    }\n",
       "\n",
       "    .dataframe thead th {\n",
       "        text-align: right;\n",
       "    }\n",
       "</style>\n",
       "<table border=\"1\" class=\"dataframe\">\n",
       "  <thead>\n",
       "    <tr style=\"text-align: right;\">\n",
       "      <th></th>\n",
       "      <th>PassengerId</th>\n",
       "      <th>Pclass</th>\n",
       "      <th>Name</th>\n",
       "      <th>Sex</th>\n",
       "      <th>Age</th>\n",
       "      <th>SibSp</th>\n",
       "      <th>Parch</th>\n",
       "      <th>Ticket</th>\n",
       "      <th>Fare</th>\n",
       "      <th>Cabin</th>\n",
       "      <th>Embarked</th>\n",
       "      <th>pre_name</th>\n",
       "    </tr>\n",
       "  </thead>\n",
       "  <tbody>\n",
       "    <tr>\n",
       "      <th>152</th>\n",
       "      <td>1044</td>\n",
       "      <td>3</td>\n",
       "      <td>Storey, Mr. Thomas</td>\n",
       "      <td>male</td>\n",
       "      <td>60.5</td>\n",
       "      <td>0</td>\n",
       "      <td>0</td>\n",
       "      <td>3701</td>\n",
       "      <td>NaN</td>\n",
       "      <td>NaN</td>\n",
       "      <td>S</td>\n",
       "      <td>Mr</td>\n",
       "    </tr>\n",
       "  </tbody>\n",
       "</table>\n",
       "</div>"
      ],
      "text/plain": [
       "     PassengerId  Pclass                Name   Sex   Age  SibSp  Parch Ticket  \\\n",
       "152         1044       3  Storey, Mr. Thomas  male  60.5      0      0   3701   \n",
       "\n",
       "     Fare Cabin Embarked pre_name  \n",
       "152   NaN   NaN        S       Mr  "
      ]
     },
     "execution_count": 32,
     "metadata": {},
     "output_type": "execute_result"
    }
   ],
   "source": [
    "test.loc[test['Fare'].isnull()==True]"
   ]
  },
  {
   "cell_type": "code",
   "execution_count": 33,
   "id": "a4be4935",
   "metadata": {
    "execution": {
     "iopub.execute_input": "2022-06-30T20:16:05.549282Z",
     "iopub.status.busy": "2022-06-30T20:16:05.548617Z",
     "iopub.status.idle": "2022-06-30T20:16:05.736727Z",
     "shell.execute_reply": "2022-06-30T20:16:05.735958Z"
    },
    "papermill": {
     "duration": 0.208072,
     "end_time": "2022-06-30T20:16:05.739035",
     "exception": false,
     "start_time": "2022-06-30T20:16:05.530963",
     "status": "completed"
    },
    "tags": []
   },
   "outputs": [
    {
     "data": {
      "text/plain": [
       "<AxesSubplot:>"
      ]
     },
     "execution_count": 33,
     "metadata": {},
     "output_type": "execute_result"
    },
    {
     "data": {
      "image/png": "[encoded data removed]",
      "text/plain": [
       "<Figure size 432x288 with 1 Axes>"
      ]
     },
     "metadata": {
      "needs_background": "light"
     },
     "output_type": "display_data"
    }
   ],
   "source": [
    "test.Fare.plot()"
   ]
  },
  {
   "cell_type": "code",
   "execution_count": 34,
   "id": "90c20dc1",
   "metadata": {
    "execution": {
     "iopub.execute_input": "2022-06-30T20:16:05.774836Z",
     "iopub.status.busy": "2022-06-30T20:16:05.774458Z",
     "iopub.status.idle": "2022-06-30T20:16:05.781334Z",
     "shell.execute_reply": "2022-06-30T20:16:05.780383Z"
    },
    "papermill": {
     "duration": 0.028741,
     "end_time": "2022-06-30T20:16:05.784957",
     "exception": false,
     "start_time": "2022-06-30T20:16:05.756216",
     "status": "completed"
    },
    "tags": []
   },
   "outputs": [
    {
     "data": {
      "text/plain": [
       "35.627188489208635"
      ]
     },
     "execution_count": 34,
     "metadata": {},
     "output_type": "execute_result"
    }
   ],
   "source": [
    "test.Fare.mean()"
   ]
  },
  {
   "cell_type": "code",
   "execution_count": 35,
   "id": "6f80d166",
   "metadata": {
    "execution": {
     "iopub.execute_input": "2022-06-30T20:16:05.820142Z",
     "iopub.status.busy": "2022-06-30T20:16:05.819751Z",
     "iopub.status.idle": "2022-06-30T20:16:05.827877Z",
     "shell.execute_reply": "2022-06-30T20:16:05.826678Z"
    },
    "papermill": {
     "duration": 0.028341,
     "end_time": "2022-06-30T20:16:05.830073",
     "exception": false,
     "start_time": "2022-06-30T20:16:05.801732",
     "status": "completed"
    },
    "tags": []
   },
   "outputs": [
    {
     "data": {
      "text/plain": [
       "14.4542"
      ]
     },
     "execution_count": 35,
     "metadata": {},
     "output_type": "execute_result"
    }
   ],
   "source": [
    "test.Fare.median()"
   ]
  },
  {
   "cell_type": "code",
   "execution_count": 36,
   "id": "5bc9d5fd",
   "metadata": {
    "execution": {
     "iopub.execute_input": "2022-06-30T20:16:05.866262Z",
     "iopub.status.busy": "2022-06-30T20:16:05.865486Z",
     "iopub.status.idle": "2022-06-30T20:16:05.882852Z",
     "shell.execute_reply": "2022-06-30T20:16:05.881763Z"
    },
    "papermill": {
     "duration": 0.038051,
     "end_time": "2022-06-30T20:16:05.885189",
     "exception": false,
     "start_time": "2022-06-30T20:16:05.847138",
     "status": "completed"
    },
    "tags": []
   },
   "outputs": [
    {
     "data": {
      "text/html": [
       "<div>\n",
       "<style scoped>\n",
       "    .dataframe tbody tr th:only-of-type {\n",
       "        vertical-align: middle;\n",
       "    }\n",
       "\n",
       "    .dataframe tbody tr th {\n",
       "        vertical-align: top;\n",
       "    }\n",
       "\n",
       "    .dataframe thead th {\n",
       "        text-align: right;\n",
       "    }\n",
       "</style>\n",
       "<table border=\"1\" class=\"dataframe\">\n",
       "  <thead>\n",
       "    <tr style=\"text-align: right;\">\n",
       "      <th></th>\n",
       "      <th>PassengerId</th>\n",
       "      <th>Survived</th>\n",
       "      <th>Pclass</th>\n",
       "      <th>Age</th>\n",
       "      <th>SibSp</th>\n",
       "      <th>Parch</th>\n",
       "      <th>Fare</th>\n",
       "    </tr>\n",
       "  </thead>\n",
       "  <tbody>\n",
       "    <tr>\n",
       "      <th>PassengerId</th>\n",
       "      <td>1.000000</td>\n",
       "      <td>-0.096550</td>\n",
       "      <td>NaN</td>\n",
       "      <td>0.045260</td>\n",
       "      <td>-0.080127</td>\n",
       "      <td>-0.014438</td>\n",
       "      <td>0.002053</td>\n",
       "    </tr>\n",
       "    <tr>\n",
       "      <th>Survived</th>\n",
       "      <td>-0.096550</td>\n",
       "      <td>1.000000</td>\n",
       "      <td>NaN</td>\n",
       "      <td>-0.214858</td>\n",
       "      <td>-0.073339</td>\n",
       "      <td>0.017257</td>\n",
       "      <td>0.000930</td>\n",
       "    </tr>\n",
       "    <tr>\n",
       "      <th>Pclass</th>\n",
       "      <td>NaN</td>\n",
       "      <td>NaN</td>\n",
       "      <td>NaN</td>\n",
       "      <td>NaN</td>\n",
       "      <td>NaN</td>\n",
       "      <td>NaN</td>\n",
       "      <td>NaN</td>\n",
       "    </tr>\n",
       "    <tr>\n",
       "      <th>Age</th>\n",
       "      <td>0.045260</td>\n",
       "      <td>-0.214858</td>\n",
       "      <td>NaN</td>\n",
       "      <td>1.000000</td>\n",
       "      <td>-0.350267</td>\n",
       "      <td>-0.177558</td>\n",
       "      <td>-0.209497</td>\n",
       "    </tr>\n",
       "    <tr>\n",
       "      <th>SibSp</th>\n",
       "      <td>-0.080127</td>\n",
       "      <td>-0.073339</td>\n",
       "      <td>NaN</td>\n",
       "      <td>-0.350267</td>\n",
       "      <td>1.000000</td>\n",
       "      <td>0.464733</td>\n",
       "      <td>0.766003</td>\n",
       "    </tr>\n",
       "    <tr>\n",
       "      <th>Parch</th>\n",
       "      <td>-0.014438</td>\n",
       "      <td>0.017257</td>\n",
       "      <td>NaN</td>\n",
       "      <td>-0.177558</td>\n",
       "      <td>0.464733</td>\n",
       "      <td>1.000000</td>\n",
       "      <td>0.585265</td>\n",
       "    </tr>\n",
       "    <tr>\n",
       "      <th>Fare</th>\n",
       "      <td>0.002053</td>\n",
       "      <td>0.000930</td>\n",
       "      <td>NaN</td>\n",
       "      <td>-0.209497</td>\n",
       "      <td>0.766003</td>\n",
       "      <td>0.585265</td>\n",
       "      <td>1.000000</td>\n",
       "    </tr>\n",
       "  </tbody>\n",
       "</table>\n",
       "</div>"
      ],
      "text/plain": [
       "             PassengerId  Survived  Pclass       Age     SibSp     Parch  \\\n",
       "PassengerId     1.000000 -0.096550     NaN  0.045260 -0.080127 -0.014438   \n",
       "Survived       -0.096550  1.000000     NaN -0.214858 -0.073339  0.017257   \n",
       "Pclass               NaN       NaN     NaN       NaN       NaN       NaN   \n",
       "Age             0.045260 -0.214858     NaN  1.000000 -0.350267 -0.177558   \n",
       "SibSp          -0.080127 -0.073339     NaN -0.350267  1.000000  0.464733   \n",
       "Parch          -0.014438  0.017257     NaN -0.177558  0.464733  1.000000   \n",
       "Fare            0.002053  0.000930     NaN -0.209497  0.766003  0.585265   \n",
       "\n",
       "                 Fare  \n",
       "PassengerId  0.002053  \n",
       "Survived     0.000930  \n",
       "Pclass            NaN  \n",
       "Age         -0.209497  \n",
       "SibSp        0.766003  \n",
       "Parch        0.585265  \n",
       "Fare         1.000000  "
      ]
     },
     "execution_count": 36,
     "metadata": {},
     "output_type": "execute_result"
    }
   ],
   "source": [
    "training.loc[training['Pclass']==3].corr()"
   ]
  },
  {
   "cell_type": "code",
   "execution_count": 37,
   "id": "4616bc68",
   "metadata": {
    "execution": {
     "iopub.execute_input": "2022-06-30T20:16:05.922119Z",
     "iopub.status.busy": "2022-06-30T20:16:05.921339Z",
     "iopub.status.idle": "2022-06-30T20:16:05.932738Z",
     "shell.execute_reply": "2022-06-30T20:16:05.931731Z"
    },
    "papermill": {
     "duration": 0.032153,
     "end_time": "2022-06-30T20:16:05.934885",
     "exception": false,
     "start_time": "2022-06-30T20:16:05.902732",
     "status": "completed"
    },
    "tags": []
   },
   "outputs": [
    {
     "data": {
      "text/plain": [
       "PassengerId    471.025926\n",
       "Survived         0.129630\n",
       "Pclass           3.000000\n",
       "Age             30.149704\n",
       "SibSp            0.000000\n",
       "Parch            0.029630\n",
       "Fare             9.594749\n",
       "dtype: float64"
      ]
     },
     "execution_count": 37,
     "metadata": {},
     "output_type": "execute_result"
    }
   ],
   "source": [
    "tito = training.loc[(training['Pclass']==3) & (training['SibSp']==0) & (training['Sex']=='male')].mean(numeric_only=True)\n",
    "tito"
   ]
  },
  {
   "cell_type": "code",
   "execution_count": 38,
   "id": "dfb13319",
   "metadata": {
    "execution": {
     "iopub.execute_input": "2022-06-30T20:16:05.972380Z",
     "iopub.status.busy": "2022-06-30T20:16:05.971497Z",
     "iopub.status.idle": "2022-06-30T20:16:05.977415Z",
     "shell.execute_reply": "2022-06-30T20:16:05.976647Z"
    },
    "papermill": {
     "duration": 0.027733,
     "end_time": "2022-06-30T20:16:05.979742",
     "exception": false,
     "start_time": "2022-06-30T20:16:05.952009",
     "status": "completed"
    },
    "tags": []
   },
   "outputs": [],
   "source": [
    "test['Fare'] = test['Fare'].fillna(9.594749)"
   ]
  },
  {
   "cell_type": "code",
   "execution_count": 39,
   "id": "d7e88e3f",
   "metadata": {
    "execution": {
     "iopub.execute_input": "2022-06-30T20:16:06.017809Z",
     "iopub.status.busy": "2022-06-30T20:16:06.017411Z",
     "iopub.status.idle": "2022-06-30T20:16:06.028119Z",
     "shell.execute_reply": "2022-06-30T20:16:06.027207Z"
    },
    "papermill": {
     "duration": 0.032786,
     "end_time": "2022-06-30T20:16:06.030430",
     "exception": false,
     "start_time": "2022-06-30T20:16:05.997644",
     "status": "completed"
    },
    "tags": []
   },
   "outputs": [
    {
     "data": {
      "text/plain": [
       "PassengerId      0\n",
       "Pclass           0\n",
       "Name             0\n",
       "Sex              0\n",
       "Age              0\n",
       "SibSp            0\n",
       "Parch            0\n",
       "Ticket           0\n",
       "Fare             0\n",
       "Cabin          327\n",
       "Embarked         0\n",
       "pre_name         0\n",
       "dtype: int64"
      ]
     },
     "execution_count": 39,
     "metadata": {},
     "output_type": "execute_result"
    }
   ],
   "source": [
    "test.isnull().sum()"
   ]
  },
  {
   "cell_type": "code",
   "execution_count": 40,
   "id": "be06e327",
   "metadata": {
    "execution": {
     "iopub.execute_input": "2022-06-30T20:16:06.068456Z",
     "iopub.status.busy": "2022-06-30T20:16:06.067275Z",
     "iopub.status.idle": "2022-06-30T20:16:06.091946Z",
     "shell.execute_reply": "2022-06-30T20:16:06.090826Z"
    },
    "papermill": {
     "duration": 0.045907,
     "end_time": "2022-06-30T20:16:06.094158",
     "exception": false,
     "start_time": "2022-06-30T20:16:06.048251",
     "status": "completed"
    },
    "tags": []
   },
   "outputs": [
    {
     "data": {
      "text/html": [
       "<div>\n",
       "<style scoped>\n",
       "    .dataframe tbody tr th:only-of-type {\n",
       "        vertical-align: middle;\n",
       "    }\n",
       "\n",
       "    .dataframe tbody tr th {\n",
       "        vertical-align: top;\n",
       "    }\n",
       "\n",
       "    .dataframe thead th {\n",
       "        text-align: right;\n",
       "    }\n",
       "</style>\n",
       "<table border=\"1\" class=\"dataframe\">\n",
       "  <thead>\n",
       "    <tr style=\"text-align: right;\">\n",
       "      <th></th>\n",
       "      <th>Pclass</th>\n",
       "      <th>Age</th>\n",
       "      <th>SibSp</th>\n",
       "      <th>Parch</th>\n",
       "      <th>Fare</th>\n",
       "      <th>Sex_male</th>\n",
       "      <th>Embarked_Q</th>\n",
       "      <th>Embarked_S</th>\n",
       "    </tr>\n",
       "  </thead>\n",
       "  <tbody>\n",
       "    <tr>\n",
       "      <th>0</th>\n",
       "      <td>3</td>\n",
       "      <td>34.5</td>\n",
       "      <td>0</td>\n",
       "      <td>0</td>\n",
       "      <td>7.8292</td>\n",
       "      <td>1</td>\n",
       "      <td>1</td>\n",
       "      <td>0</td>\n",
       "    </tr>\n",
       "    <tr>\n",
       "      <th>1</th>\n",
       "      <td>3</td>\n",
       "      <td>47.0</td>\n",
       "      <td>1</td>\n",
       "      <td>0</td>\n",
       "      <td>7.0000</td>\n",
       "      <td>0</td>\n",
       "      <td>0</td>\n",
       "      <td>1</td>\n",
       "    </tr>\n",
       "    <tr>\n",
       "      <th>2</th>\n",
       "      <td>2</td>\n",
       "      <td>62.0</td>\n",
       "      <td>0</td>\n",
       "      <td>0</td>\n",
       "      <td>9.6875</td>\n",
       "      <td>1</td>\n",
       "      <td>1</td>\n",
       "      <td>0</td>\n",
       "    </tr>\n",
       "    <tr>\n",
       "      <th>3</th>\n",
       "      <td>3</td>\n",
       "      <td>27.0</td>\n",
       "      <td>0</td>\n",
       "      <td>0</td>\n",
       "      <td>8.6625</td>\n",
       "      <td>1</td>\n",
       "      <td>0</td>\n",
       "      <td>1</td>\n",
       "    </tr>\n",
       "    <tr>\n",
       "      <th>4</th>\n",
       "      <td>3</td>\n",
       "      <td>22.0</td>\n",
       "      <td>1</td>\n",
       "      <td>1</td>\n",
       "      <td>12.2875</td>\n",
       "      <td>0</td>\n",
       "      <td>0</td>\n",
       "      <td>1</td>\n",
       "    </tr>\n",
       "    <tr>\n",
       "      <th>...</th>\n",
       "      <td>...</td>\n",
       "      <td>...</td>\n",
       "      <td>...</td>\n",
       "      <td>...</td>\n",
       "      <td>...</td>\n",
       "      <td>...</td>\n",
       "      <td>...</td>\n",
       "      <td>...</td>\n",
       "    </tr>\n",
       "    <tr>\n",
       "      <th>413</th>\n",
       "      <td>3</td>\n",
       "      <td>33.0</td>\n",
       "      <td>0</td>\n",
       "      <td>0</td>\n",
       "      <td>8.0500</td>\n",
       "      <td>1</td>\n",
       "      <td>0</td>\n",
       "      <td>1</td>\n",
       "    </tr>\n",
       "    <tr>\n",
       "      <th>414</th>\n",
       "      <td>1</td>\n",
       "      <td>39.0</td>\n",
       "      <td>0</td>\n",
       "      <td>0</td>\n",
       "      <td>108.9000</td>\n",
       "      <td>0</td>\n",
       "      <td>0</td>\n",
       "      <td>0</td>\n",
       "    </tr>\n",
       "    <tr>\n",
       "      <th>415</th>\n",
       "      <td>3</td>\n",
       "      <td>38.5</td>\n",
       "      <td>0</td>\n",
       "      <td>0</td>\n",
       "      <td>7.2500</td>\n",
       "      <td>1</td>\n",
       "      <td>0</td>\n",
       "      <td>1</td>\n",
       "    </tr>\n",
       "    <tr>\n",
       "      <th>416</th>\n",
       "      <td>3</td>\n",
       "      <td>33.0</td>\n",
       "      <td>0</td>\n",
       "      <td>0</td>\n",
       "      <td>8.0500</td>\n",
       "      <td>1</td>\n",
       "      <td>0</td>\n",
       "      <td>1</td>\n",
       "    </tr>\n",
       "    <tr>\n",
       "      <th>417</th>\n",
       "      <td>3</td>\n",
       "      <td>5.0</td>\n",
       "      <td>1</td>\n",
       "      <td>1</td>\n",
       "      <td>22.3583</td>\n",
       "      <td>1</td>\n",
       "      <td>0</td>\n",
       "      <td>0</td>\n",
       "    </tr>\n",
       "  </tbody>\n",
       "</table>\n",
       "<p>418 rows × 8 columns</p>\n",
       "</div>"
      ],
      "text/plain": [
       "     Pclass   Age  SibSp  Parch      Fare  Sex_male  Embarked_Q  Embarked_S\n",
       "0         3  34.5      0      0    7.8292         1           1           0\n",
       "1         3  47.0      1      0    7.0000         0           0           1\n",
       "2         2  62.0      0      0    9.6875         1           1           0\n",
       "3         3  27.0      0      0    8.6625         1           0           1\n",
       "4         3  22.0      1      1   12.2875         0           0           1\n",
       "..      ...   ...    ...    ...       ...       ...         ...         ...\n",
       "413       3  33.0      0      0    8.0500         1           0           1\n",
       "414       1  39.0      0      0  108.9000         0           0           0\n",
       "415       3  38.5      0      0    7.2500         1           0           1\n",
       "416       3  33.0      0      0    8.0500         1           0           1\n",
       "417       3   5.0      1      1   22.3583         1           0           0\n",
       "\n",
       "[418 rows x 8 columns]"
      ]
     },
     "execution_count": 40,
     "metadata": {},
     "output_type": "execute_result"
    }
   ],
   "source": [
    "test1 = test.drop(columns=['PassengerId','Name','Ticket','Cabin','pre_name'])\n",
    "test2 = pd.get_dummies(test1, drop_first=True)\n",
    "test2"
   ]
  },
  {
   "cell_type": "code",
   "execution_count": 41,
   "id": "e15b7511",
   "metadata": {
    "execution": {
     "iopub.execute_input": "2022-06-30T20:16:06.131498Z",
     "iopub.status.busy": "2022-06-30T20:16:06.130724Z",
     "iopub.status.idle": "2022-06-30T20:16:06.272359Z",
     "shell.execute_reply": "2022-06-30T20:16:06.271131Z"
    },
    "papermill": {
     "duration": 0.163536,
     "end_time": "2022-06-30T20:16:06.275301",
     "exception": false,
     "start_time": "2022-06-30T20:16:06.111765",
     "status": "completed"
    },
    "tags": []
   },
   "outputs": [],
   "source": [
    "from sklearn.ensemble import RandomForestClassifier\n",
    "from sklearn.metrics import classification_report,confusion_matrix"
   ]
  },
  {
   "cell_type": "code",
   "execution_count": 42,
   "id": "a9f6c7cd",
   "metadata": {
    "execution": {
     "iopub.execute_input": "2022-06-30T20:16:06.313505Z",
     "iopub.status.busy": "2022-06-30T20:16:06.312697Z",
     "iopub.status.idle": "2022-06-30T20:16:06.535118Z",
     "shell.execute_reply": "2022-06-30T20:16:06.533994Z"
    },
    "papermill": {
     "duration": 0.244336,
     "end_time": "2022-06-30T20:16:06.537700",
     "exception": false,
     "start_time": "2022-06-30T20:16:06.293364",
     "status": "completed"
    },
    "tags": []
   },
   "outputs": [
    {
     "data": {
      "text/plain": [
       "RandomForestClassifier()"
      ]
     },
     "execution_count": 42,
     "metadata": {},
     "output_type": "execute_result"
    }
   ],
   "source": [
    "Model = RandomForestClassifier(n_estimators=100)\n",
    "Model.fit(x_train,y_train)"
   ]
  },
  {
   "cell_type": "code",
   "execution_count": 43,
   "id": "f01da00b",
   "metadata": {
    "execution": {
     "iopub.execute_input": "2022-06-30T20:16:06.576648Z",
     "iopub.status.busy": "2022-06-30T20:16:06.575937Z",
     "iopub.status.idle": "2022-06-30T20:16:06.604335Z",
     "shell.execute_reply": "2022-06-30T20:16:06.602691Z"
    },
    "papermill": {
     "duration": 0.051176,
     "end_time": "2022-06-30T20:16:06.606779",
     "exception": false,
     "start_time": "2022-06-30T20:16:06.555603",
     "status": "completed"
    },
    "tags": []
   },
   "outputs": [
    {
     "name": "stdout",
     "output_type": "stream",
     "text": [
      "              precision    recall  f1-score   support\n",
      "\n",
      "           0       0.84      0.94      0.89       110\n",
      "           1       0.88      0.72      0.79        69\n",
      "\n",
      "    accuracy                           0.85       179\n",
      "   macro avg       0.86      0.83      0.84       179\n",
      "weighted avg       0.86      0.85      0.85       179\n",
      "\n"
     ]
    }
   ],
   "source": [
    "Model_pred = Model.predict(x_test)\n",
    "print(classification_report(y_test,Model_pred))"
   ]
  },
  {
   "cell_type": "code",
   "execution_count": 44,
   "id": "83538315",
   "metadata": {
    "execution": {
     "iopub.execute_input": "2022-06-30T20:16:06.645011Z",
     "iopub.status.busy": "2022-06-30T20:16:06.644252Z",
     "iopub.status.idle": "2022-06-30T20:16:06.671401Z",
     "shell.execute_reply": "2022-06-30T20:16:06.670217Z"
    },
    "papermill": {
     "duration": 0.049224,
     "end_time": "2022-06-30T20:16:06.674181",
     "exception": false,
     "start_time": "2022-06-30T20:16:06.624957",
     "status": "completed"
    },
    "tags": []
   },
   "outputs": [],
   "source": [
    "test_pred = Model.predict(test2)"
   ]
  },
  {
   "cell_type": "code",
   "execution_count": 45,
   "id": "16953689",
   "metadata": {
    "execution": {
     "iopub.execute_input": "2022-06-30T20:16:06.711878Z",
     "iopub.status.busy": "2022-06-30T20:16:06.711444Z",
     "iopub.status.idle": "2022-06-30T20:16:06.726113Z",
     "shell.execute_reply": "2022-06-30T20:16:06.725213Z"
    },
    "papermill": {
     "duration": 0.036617,
     "end_time": "2022-06-30T20:16:06.728575",
     "exception": false,
     "start_time": "2022-06-30T20:16:06.691958",
     "status": "completed"
    },
    "tags": []
   },
   "outputs": [],
   "source": [
    "output = pd.DataFrame()\n",
    "output['PassengerId']=test.PassengerId\n",
    "output['Survived']=test_pred\n",
    "output.to_csv('gender_submission.csv')\n",
    "output.set_index('PassengerId').to_csv('gender_submission.csv')"
   ]
  }
 ],
 "metadata": {
  "kernelspec": {
   "display_name": "Python 3",
   "language": "python",
   "name": "python3"
  },
  "language_info": {
   "codemirror_mode": {
    "name": "ipython",
    "version": 3
   },
   "file_extension": ".py",
   "mimetype": "text/x-python",
   "name": "python",
   "nbconvert_exporter": "python",
   "pygments_lexer": "ipython3",
   "version": "3.7.12"
  },
  "papermill": {
   "default_parameters": {},
   "duration": 15.476335,
   "end_time": "2022-06-30T20:16:07.570216",
   "environment_variables": {},
   "exception": null,
   "input_path": "__notebook__.ipynb",
   "output_path": "__notebook__.ipynb",
   "parameters": {},
   "start_time": "2022-06-30T20:15:52.093881",
   "version": "2.3.4"
  }
 },
 "nbformat": 4,
 "nbformat_minor": 5
}
